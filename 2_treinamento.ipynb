{
 "cells": [
  {
   "cell_type": "code",
   "execution_count": 1,
   "id": "2795701d",
   "metadata": {},
   "outputs": [],
   "source": [
    "import os\n",
    "import shutil\n",
    "import torch"
   ]
  },
  {
   "cell_type": "code",
   "execution_count": 2,
   "id": "7da1b3bf",
   "metadata": {},
   "outputs": [],
   "source": [
    "from include.utils import dividir_dataset, mover_labels_imagens\n",
    "from ultralytics import YOLO"
   ]
  },
  {
   "cell_type": "code",
   "execution_count": 3,
   "id": "fd2b8c92",
   "metadata": {},
   "outputs": [],
   "source": [
    "class ModeloYolo:\n",
    "    def __init__(self, modelo_path, output_dir):\n",
    "        self.modelo = YOLO(modelo_path)\n",
    "        self.output_dir = output_dir\n",
    "        os.makedirs(output_dir, exist_ok=True)\n",
    "\n",
    "    def treinar(self, dataset_path, epochs_treinamento=50, batch_size=16, imgsz=640, lr=0.001, patience=3):\n",
    "        print(\"Iniciando o treinamento...\")\n",
    "        \n",
    "        best_loss = float('inf')\n",
    "        epochs_no_improvement = 0\n",
    "        start_epoch = 0\n",
    "        \n",
    "        checkpoint_path = os.path.join(self.output_dir, 'checkpoint.pt')\n",
    "\n",
    "        # Carregar checkpoint se existir\n",
    "        if os.path.exists(checkpoint_path):\n",
    "            print(\"Checkpoint encontrado. Carregando...\")\n",
    "            self.modelo = YOLO(checkpoint_path)\n",
    "            with open(os.path.join(self.output_dir, 'checkpoint_info.txt'), 'r') as f:\n",
    "                start_epoch = int(f.read())\n",
    "            print(f\"Retomando do epoch {start_epoch + 1}\")\n",
    "    \n",
    "        for epoch in range(start_epoch, epochs_treinamento):\n",
    "            print(f\"\\nÉpoca {epoch + 1}/{epochs_treinamento}\")\n",
    "    \n",
    "            results = self.modelo.train(\n",
    "                data=dataset_path,\n",
    "                imgsz=imgsz,\n",
    "                batch=batch_size,\n",
    "                epochs=epoch,\n",
    "                lr0=lr,\n",
    "                augment=True,\n",
    "                verbose=False,\n",
    "                resume=False,\n",
    "                device=\"cpu\"\n",
    "            )\n",
    "    \n",
    "            metrics = results.results_dict\n",
    "            current_loss = metrics.get('train_loss', float('inf'))\n",
    "    \n",
    "            # Salvar o modelo se a perda melhorar\n",
    "            if current_loss < best_loss:\n",
    "                best_loss = current_loss\n",
    "                epochs_no_improvement = 0\n",
    "                best_model_path = os.path.join(self.output_dir, 'modelo_treinado.pt')\n",
    "                self.modelo.save(best_model_path)  # Salvar o modelo completo\n",
    "                print(f\"Modelo melhorado salvo em: {best_model_path} com perda: {current_loss:.4f}\")\n",
    "            else:\n",
    "                epochs_no_improvement += 1\n",
    "                print(f\"Sem melhora na perda ({current_loss:.4f}), paciência: {epochs_no_improvement}/{patience}\")\n",
    "    \n",
    "            # Salvar checkpoint do modelo\n",
    "            checkpoint_path = os.path.join(self.output_dir, f'checkpoint_epoch_{epoch}.pt')\n",
    "            self.modelo.save(checkpoint_path)\n",
    "            with open(os.path.join(self.output_dir, 'checkpoint_info.txt'), 'w') as f:\n",
    "                f.write(str(epoch))\n",
    "            print(f\"Checkpoint salvo em: {checkpoint_path}\")\n",
    "    \n",
    "            if epochs_no_improvement >= patience:\n",
    "                print(\"Parada antecipada ativada. Treinamento interrompido.\")\n",
    "                break\n",
    "    \n",
    "        final_model_path = os.path.join(self.output_dir, 'modelo_treinado.pt')\n",
    "        self.modelo.save(final_model_path)  # Salvar o modelo completo\n",
    "        print(f\"Modelo final salvo em: {final_model_path}\")\n",
    "\n",
    "        print(\"Treinamento concluído.\")"
   ]
  },
  {
   "cell_type": "code",
   "execution_count": null,
   "id": "f766b25c",
   "metadata": {},
   "outputs": [
    {
     "name": "stdout",
     "output_type": "stream",
     "text": [
      "Divisão do dataset concluída: 276 imagens para treino, 34 para validação, 35 para teste.\n",
      "Iniciando o treinamento...\n",
      "\n",
      "Época 1/5\n",
      "New https://pypi.org/project/ultralytics/8.3.70 available  Update with 'pip install -U ultralytics'\n",
      "Ultralytics 8.3.68  Python-3.12.4 torch-2.5.0.dev20240827+cu118 CPU (12th Gen Intel Core(TM) i5-1235U)\n",
      "\u001b[34m\u001b[1mengine\\trainer: \u001b[0mtask=detect, mode=train, model=C:\\Users\\luiz.santos\\Documents\\FIAP Grupo\\Hackathon\\modelo\\yolo11s.pt, data=C:\\Users\\luiz.santos\\Documents\\FIAP Grupo\\Hackathon\\dataset.yaml, epochs=0, time=None, patience=100, batch=16, imgsz=640, save=True, save_period=-1, cache=False, device=cpu, workers=8, project=None, name=train, exist_ok=False, pretrained=True, optimizer=auto, verbose=False, seed=0, deterministic=True, single_cls=False, rect=False, cos_lr=False, close_mosaic=10, resume=False, amp=True, fraction=1.0, profile=False, freeze=None, multi_scale=False, overlap_mask=True, mask_ratio=4, dropout=0.0, val=True, split=val, save_json=False, save_hybrid=False, conf=None, iou=0.7, max_det=300, half=False, dnn=False, plots=True, source=None, vid_stride=1, stream_buffer=False, visualize=False, augment=True, agnostic_nms=False, classes=None, retina_masks=False, embed=None, show=False, save_frames=False, save_txt=False, save_conf=False, save_crop=False, show_labels=True, show_conf=True, show_boxes=True, line_width=None, format=torchscript, keras=False, optimize=False, int8=False, dynamic=False, simplify=True, opset=None, workspace=None, nms=False, lr0=0.001, lrf=0.01, momentum=0.937, weight_decay=0.0005, warmup_epochs=3.0, warmup_momentum=0.8, warmup_bias_lr=0.1, box=7.5, cls=0.5, dfl=1.5, pose=12.0, kobj=1.0, nbs=64, hsv_h=0.015, hsv_s=0.7, hsv_v=0.4, degrees=0.0, translate=0.1, scale=0.5, shear=0.0, perspective=0.0, flipud=0.0, fliplr=0.5, bgr=0.0, mosaic=1.0, mixup=0.0, copy_paste=0.0, copy_paste_mode=flip, auto_augment=randaugment, erasing=0.4, crop_fraction=1.0, cfg=None, tracker=botsort.yaml, save_dir=runs\\detect\\train\n",
      "Overriding model.yaml nc=80 with nc=1\n",
      "\n",
      "                   from  n    params  module                                       arguments                     \n",
      "  0                  -1  1       928  ultralytics.nn.modules.conv.Conv             [3, 32, 3, 2]                 \n",
      "  1                  -1  1     18560  ultralytics.nn.modules.conv.Conv             [32, 64, 3, 2]                \n",
      "  2                  -1  1     26080  ultralytics.nn.modules.block.C3k2            [64, 128, 1, False, 0.25]     \n",
      "  3                  -1  1    147712  ultralytics.nn.modules.conv.Conv             [128, 128, 3, 2]              \n",
      "  4                  -1  1    103360  ultralytics.nn.modules.block.C3k2            [128, 256, 1, False, 0.25]    \n",
      "  5                  -1  1    590336  ultralytics.nn.modules.conv.Conv             [256, 256, 3, 2]              \n",
      "  6                  -1  1    346112  ultralytics.nn.modules.block.C3k2            [256, 256, 1, True]           \n",
      "  7                  -1  1   1180672  ultralytics.nn.modules.conv.Conv             [256, 512, 3, 2]              \n",
      "  8                  -1  1   1380352  ultralytics.nn.modules.block.C3k2            [512, 512, 1, True]           \n",
      "  9                  -1  1    656896  ultralytics.nn.modules.block.SPPF            [512, 512, 5]                 \n",
      " 10                  -1  1    990976  ultralytics.nn.modules.block.C2PSA           [512, 512, 1]                 \n",
      " 11                  -1  1         0  torch.nn.modules.upsampling.Upsample         [None, 2, 'nearest']          \n",
      " 12             [-1, 6]  1         0  ultralytics.nn.modules.conv.Concat           [1]                           \n",
      " 13                  -1  1    443776  ultralytics.nn.modules.block.C3k2            [768, 256, 1, False]          \n",
      " 14                  -1  1         0  torch.nn.modules.upsampling.Upsample         [None, 2, 'nearest']          \n",
      " 15             [-1, 4]  1         0  ultralytics.nn.modules.conv.Concat           [1]                           \n",
      " 16                  -1  1    127680  ultralytics.nn.modules.block.C3k2            [512, 128, 1, False]          \n",
      " 17                  -1  1    147712  ultralytics.nn.modules.conv.Conv             [128, 128, 3, 2]              \n",
      " 18            [-1, 13]  1         0  ultralytics.nn.modules.conv.Concat           [1]                           \n",
      " 19                  -1  1    345472  ultralytics.nn.modules.block.C3k2            [384, 256, 1, False]          \n",
      " 20                  -1  1    590336  ultralytics.nn.modules.conv.Conv             [256, 256, 3, 2]              \n",
      " 21            [-1, 10]  1         0  ultralytics.nn.modules.conv.Concat           [1]                           \n",
      " 22                  -1  1   1511424  ultralytics.nn.modules.block.C3k2            [768, 512, 1, True]           \n",
      " 23        [16, 19, 22]  1    819795  ultralytics.nn.modules.head.Detect           [1, [128, 256, 512]]          \n",
      "YOLO11s summary: 319 layers, 9,428,179 parameters, 9,428,163 gradients, 21.5 GFLOPs\n",
      "\n",
      "Transferred 493/499 items from pretrained weights\n",
      "\u001b[34m\u001b[1mTensorBoard: \u001b[0mStart with 'tensorboard --logdir runs\\detect\\train', view at http://localhost:6006/\n",
      "Freezing layer 'model.23.dfl.conv.weight'\n"
     ]
    },
    {
     "name": "stderr",
     "output_type": "stream",
     "text": [
      "\u001b[34m\u001b[1mtrain: \u001b[0mScanning C:\\Users\\luiz.santos\\Documents\\FIAP Grupo\\Hackathon\\arquivo\\imagens... 345 images, 329 backgrounds, 0 corrupt: 100%|██████████| 674/674 [00:00<00:00, 1108.56it/s]\u001b[0m\n"
     ]
    },
    {
     "name": "stdout",
     "output_type": "stream",
     "text": [
      "\u001b[34m\u001b[1mtrain: \u001b[0mNew cache created: C:\\Users\\luiz.santos\\Documents\\FIAP Grupo\\Hackathon\\arquivo\\imagens.cache\n"
     ]
    },
    {
     "name": "stderr",
     "output_type": "stream",
     "text": [
      "\u001b[34m\u001b[1mval: \u001b[0mScanning C:\\Users\\luiz.santos\\Documents\\FIAP Grupo\\Hackathon\\arquivo\\imagens.cache... 345 images, 329 backgrounds, 0 corrupt: 100%|██████████| 674/674 [00:00<?, ?it/s]\u001b[0m\n"
     ]
    },
    {
     "name": "stdout",
     "output_type": "stream",
     "text": [
      "Plotting labels to runs\\detect\\train\\labels.jpg... \n",
      "\u001b[34m\u001b[1moptimizer:\u001b[0m 'optimizer=auto' found, ignoring 'lr0=0.001' and 'momentum=0.937' and determining best 'optimizer', 'lr0' and 'momentum' automatically... \n",
      "\u001b[34m\u001b[1moptimizer:\u001b[0m AdamW(lr=0.002, momentum=0.9) with parameter groups 81 weight(decay=0.0), 88 weight(decay=0.0005), 87 bias(decay=0.0)\n",
      "\u001b[34m\u001b[1mTensorBoard: \u001b[0mmodel graph visualization added \n",
      "Image sizes 640 train, 640 val\n",
      "Using 0 dataloader workers\n",
      "Logging results to \u001b[1mruns\\detect\\train\u001b[0m\n",
      "Starting training for 100 epochs...\n",
      "\n",
      "      Epoch    GPU_mem   box_loss   cls_loss   dfl_loss  Instances       Size\n"
     ]
    },
    {
     "name": "stderr",
     "output_type": "stream",
     "text": [
      "  0%|          | 0/43 [00:00<?, ?it/s]"
     ]
    }
   ],
   "source": [
    "current_dir = os.getcwd()\n",
    "\n",
    "caminho_imagens = os.path.join(current_dir, 'arquivo', 'imagens')  # Pasta onde as imagens estão\n",
    "caminho_modelo = os.path.join(current_dir, 'modelo')  # Diretório onde o modelo treinado será salvo\n",
    "caminho_test = os.path.join(current_dir, 'treinamento', 'test')  # Pasta para as imagens de teste\n",
    "caminho_treino = os.path.join(current_dir, 'treinamento', 'train')  # Pasta para as imagens de treino\n",
    "caminho_val = os.path.join(current_dir, 'treinamento', 'val')  # Pasta para as imagens de validação\n",
    "caminho_yaml = os.path.join(current_dir, 'dataset.yaml')  # Caminho para o arquivo YAML de configuração do dataset\n",
    "\n",
    "# Dividir o dataset\n",
    "dividir_dataset(caminho_imagens, caminho_treino, caminho_val, caminho_test)\n",
    "\n",
    "# Inicializar e treinar o modelo\n",
    "modelo = os.path.join(caminho_modelo,'yolo11s.pt')\n",
    "classe_modelo = ModeloYolo(modelo, caminho_modelo)\n",
    "classe_modelo.treinar(caminho_yaml, epochs_treinamento=5) # rodando em menos épocas pois o pc ainda está usando cpu, será ajustado depois"
   ]
  },
  {
   "cell_type": "code",
   "execution_count": null,
   "id": "f9bff98f-4fc1-461b-affe-232e1571fbd4",
   "metadata": {},
   "outputs": [],
   "source": [
    "current_dir = os.getcwd()\n",
    "\n",
    "caminho_imagens = os.path.join(current_dir, 'arquivo', 'imagens')  # Pasta onde as imagens estão\n",
    "caminho_modelo = os.path.join(current_dir, 'modelo')  # Diretório onde o modelo treinado será salvo\n",
    "\n",
    "# Avaliando modelo\n",
    "caminho_modelo_treinado = os.path.join(caminho_modelo,'modelo_treinado.pt')  # Diretório do modelo treinado\n",
    "modelo = YOLO(caminho_modelo_treinado)\n",
    "modelo.val()\n",
    "\n",
    "caminho_imagem_teste = os.path.join(caminho_imagens, 'img_425.jpg')\n",
    "results = modelo(caminho_imagem_teste)\n",
    "\n",
    "caminho_imagem_teste = os.path.join(caminho_imagens, 'img_500.jpg')\n",
    "results = modelo(caminho_imagem_teste)\n",
    "\n",
    "caminho_imagem_teste = os.path.join(caminho_imagens, 'img_650.jpg')\n",
    "results = modelo(caminho_imagem_teste)"
   ]
  }
 ],
 "metadata": {
  "jupytext": {
   "cell_metadata_filter": "-all",
   "main_language": "python",
   "notebook_metadata_filter": "-all"
  },
  "kernelspec": {
   "display_name": "Python 3 (ipykernel)",
   "language": "python",
   "name": "python3"
  },
  "language_info": {
   "codemirror_mode": {
    "name": "ipython",
    "version": 3
   },
   "file_extension": ".py",
   "mimetype": "text/x-python",
   "name": "python",
   "nbconvert_exporter": "python",
   "pygments_lexer": "ipython3",
   "version": "3.12.4"
  }
 },
 "nbformat": 4,
 "nbformat_minor": 5
}
