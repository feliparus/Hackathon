{
 "cells": [
  {
   "cell_type": "code",
   "execution_count": 1,
   "id": "79811cc8-019a-4829-961b-dba946b5c3a3",
   "metadata": {},
   "outputs": [
    {
     "name": "stdout",
     "output_type": "stream",
     "text": [
      "Requirement already satisfied: kaggle in c:\\users\\luiz.santos\\documents\\fiap grupo\\hackathon\\.venv\\lib\\site-packages (from -r requirements.txt (line 1)) (1.6.17)\n",
      "Requirement already satisfied: kagglehub in c:\\users\\luiz.santos\\documents\\fiap grupo\\hackathon\\.venv\\lib\\site-packages (from -r requirements.txt (line 2)) (0.3.7)\n",
      "Requirement already satisfied: labelimg in c:\\users\\luiz.santos\\documents\\fiap grupo\\hackathon\\.venv\\lib\\site-packages (from -r requirements.txt (line 3)) (1.8.6)\n",
      "Requirement already satisfied: lxml in c:\\users\\luiz.santos\\documents\\fiap grupo\\hackathon\\.venv\\lib\\site-packages (from -r requirements.txt (line 4)) (5.3.0)\n",
      "Requirement already satisfied: numpy in c:\\users\\luiz.santos\\documents\\fiap grupo\\hackathon\\.venv\\lib\\site-packages (from -r requirements.txt (line 5)) (2.1.1)\n",
      "Requirement already satisfied: opencv-python in c:\\users\\luiz.santos\\documents\\fiap grupo\\hackathon\\.venv\\lib\\site-packages (from -r requirements.txt (line 6)) (4.11.0.86)\n",
      "Requirement already satisfied: pyqt5 in c:\\users\\luiz.santos\\documents\\fiap grupo\\hackathon\\.venv\\lib\\site-packages (from -r requirements.txt (line 7)) (5.15.11)\n",
      "Requirement already satisfied: python-dotenv in c:\\users\\luiz.santos\\documents\\fiap grupo\\hackathon\\.venv\\lib\\site-packages (from -r requirements.txt (line 8)) (1.0.1)\n",
      "Requirement already satisfied: PyYAML in c:\\users\\luiz.santos\\documents\\fiap grupo\\hackathon\\.venv\\lib\\site-packages (from -r requirements.txt (line 9)) (6.0.2)\n",
      "Requirement already satisfied: roboflow in c:\\users\\luiz.santos\\documents\\fiap grupo\\hackathon\\.venv\\lib\\site-packages (from -r requirements.txt (line 10)) (1.1.51)\n",
      "Requirement already satisfied: scikit-learn in c:\\users\\luiz.santos\\documents\\fiap grupo\\hackathon\\.venv\\lib\\site-packages (from -r requirements.txt (line 11)) (1.6.1)\n",
      "Requirement already satisfied: sip in c:\\users\\luiz.santos\\documents\\fiap grupo\\hackathon\\.venv\\lib\\site-packages (from -r requirements.txt (line 12)) (6.9.1)\n",
      "Requirement already satisfied: tqdm in c:\\users\\luiz.santos\\documents\\fiap grupo\\hackathon\\.venv\\lib\\site-packages (from -r requirements.txt (line 13)) (4.67.1)\n",
      "Requirement already satisfied: ultralytics in c:\\users\\luiz.santos\\documents\\fiap grupo\\hackathon\\.venv\\lib\\site-packages (from -r requirements.txt (line 14)) (8.3.70)\n",
      "Requirement already satisfied: six>=1.10 in c:\\users\\luiz.santos\\documents\\fiap grupo\\hackathon\\.venv\\lib\\site-packages (from kaggle->-r requirements.txt (line 1)) (1.17.0)\n",
      "Requirement already satisfied: certifi>=2023.7.22 in c:\\users\\luiz.santos\\documents\\fiap grupo\\hackathon\\.venv\\lib\\site-packages (from kaggle->-r requirements.txt (line 1)) (2025.1.31)\n",
      "Requirement already satisfied: python-dateutil in c:\\users\\luiz.santos\\documents\\fiap grupo\\hackathon\\.venv\\lib\\site-packages (from kaggle->-r requirements.txt (line 1)) (2.9.0.post0)\n",
      "Requirement already satisfied: requests in c:\\users\\luiz.santos\\documents\\fiap grupo\\hackathon\\.venv\\lib\\site-packages (from kaggle->-r requirements.txt (line 1)) (2.32.3)\n",
      "Requirement already satisfied: python-slugify in c:\\users\\luiz.santos\\documents\\fiap grupo\\hackathon\\.venv\\lib\\site-packages (from kaggle->-r requirements.txt (line 1)) (8.0.4)\n",
      "Requirement already satisfied: urllib3 in c:\\users\\luiz.santos\\documents\\fiap grupo\\hackathon\\.venv\\lib\\site-packages (from kaggle->-r requirements.txt (line 1)) (2.3.0)\n",
      "Requirement already satisfied: bleach in c:\\users\\luiz.santos\\documents\\fiap grupo\\hackathon\\.venv\\lib\\site-packages (from kaggle->-r requirements.txt (line 1)) (6.2.0)\n",
      "Requirement already satisfied: model-signing in c:\\users\\luiz.santos\\documents\\fiap grupo\\hackathon\\.venv\\lib\\site-packages (from kagglehub->-r requirements.txt (line 2)) (0.2.0)\n",
      "Requirement already satisfied: packaging in c:\\users\\luiz.santos\\documents\\fiap grupo\\hackathon\\.venv\\lib\\site-packages (from kagglehub->-r requirements.txt (line 2)) (24.2)\n",
      "Requirement already satisfied: PyQt5-sip<13,>=12.15 in c:\\users\\luiz.santos\\documents\\fiap grupo\\hackathon\\.venv\\lib\\site-packages (from pyqt5->-r requirements.txt (line 7)) (12.16.1)\n",
      "Requirement already satisfied: PyQt5-Qt5<5.16.0,>=5.15.2 in c:\\users\\luiz.santos\\documents\\fiap grupo\\hackathon\\.venv\\lib\\site-packages (from pyqt5->-r requirements.txt (line 7)) (5.15.2)\n",
      "Requirement already satisfied: idna==3.7 in c:\\users\\luiz.santos\\documents\\fiap grupo\\hackathon\\.venv\\lib\\site-packages (from roboflow->-r requirements.txt (line 10)) (3.7)\n",
      "Requirement already satisfied: cycler in c:\\users\\luiz.santos\\documents\\fiap grupo\\hackathon\\.venv\\lib\\site-packages (from roboflow->-r requirements.txt (line 10)) (0.12.1)\n",
      "Requirement already satisfied: kiwisolver>=1.3.1 in c:\\users\\luiz.santos\\documents\\fiap grupo\\hackathon\\.venv\\lib\\site-packages (from roboflow->-r requirements.txt (line 10)) (1.4.8)\n",
      "Requirement already satisfied: matplotlib in c:\\users\\luiz.santos\\documents\\fiap grupo\\hackathon\\.venv\\lib\\site-packages (from roboflow->-r requirements.txt (line 10)) (3.10.0)\n",
      "Requirement already satisfied: opencv-python-headless==4.10.0.84 in c:\\users\\luiz.santos\\documents\\fiap grupo\\hackathon\\.venv\\lib\\site-packages (from roboflow->-r requirements.txt (line 10)) (4.10.0.84)\n",
      "Requirement already satisfied: Pillow>=7.1.2 in c:\\users\\luiz.santos\\documents\\fiap grupo\\hackathon\\.venv\\lib\\site-packages (from roboflow->-r requirements.txt (line 10)) (11.1.0)\n",
      "Requirement already satisfied: requests-toolbelt in c:\\users\\luiz.santos\\documents\\fiap grupo\\hackathon\\.venv\\lib\\site-packages (from roboflow->-r requirements.txt (line 10)) (1.0.0)\n",
      "Requirement already satisfied: filetype in c:\\users\\luiz.santos\\documents\\fiap grupo\\hackathon\\.venv\\lib\\site-packages (from roboflow->-r requirements.txt (line 10)) (1.2.0)\n",
      "Requirement already satisfied: scipy>=1.6.0 in c:\\users\\luiz.santos\\documents\\fiap grupo\\hackathon\\.venv\\lib\\site-packages (from scikit-learn->-r requirements.txt (line 11)) (1.15.1)\n",
      "Requirement already satisfied: joblib>=1.2.0 in c:\\users\\luiz.santos\\documents\\fiap grupo\\hackathon\\.venv\\lib\\site-packages (from scikit-learn->-r requirements.txt (line 11)) (1.4.2)\n",
      "Requirement already satisfied: threadpoolctl>=3.1.0 in c:\\users\\luiz.santos\\documents\\fiap grupo\\hackathon\\.venv\\lib\\site-packages (from scikit-learn->-r requirements.txt (line 11)) (3.5.0)\n",
      "Requirement already satisfied: setuptools>=69.5 in c:\\users\\luiz.santos\\documents\\fiap grupo\\hackathon\\.venv\\lib\\site-packages (from sip->-r requirements.txt (line 12)) (75.8.0)\n",
      "Requirement already satisfied: colorama in c:\\users\\luiz.santos\\documents\\fiap grupo\\hackathon\\.venv\\lib\\site-packages (from tqdm->-r requirements.txt (line 13)) (0.4.6)\n",
      "Requirement already satisfied: torch>=1.8.0 in c:\\users\\luiz.santos\\documents\\fiap grupo\\hackathon\\.venv\\lib\\site-packages (from ultralytics->-r requirements.txt (line 14)) (2.6.0)\n",
      "Requirement already satisfied: torchvision>=0.9.0 in c:\\users\\luiz.santos\\documents\\fiap grupo\\hackathon\\.venv\\lib\\site-packages (from ultralytics->-r requirements.txt (line 14)) (0.21.0)\n",
      "Requirement already satisfied: psutil in c:\\users\\luiz.santos\\documents\\fiap grupo\\hackathon\\.venv\\lib\\site-packages (from ultralytics->-r requirements.txt (line 14)) (6.1.1)\n",
      "Requirement already satisfied: py-cpuinfo in c:\\users\\luiz.santos\\documents\\fiap grupo\\hackathon\\.venv\\lib\\site-packages (from ultralytics->-r requirements.txt (line 14)) (9.0.0)\n",
      "Requirement already satisfied: pandas>=1.1.4 in c:\\users\\luiz.santos\\documents\\fiap grupo\\hackathon\\.venv\\lib\\site-packages (from ultralytics->-r requirements.txt (line 14)) (2.2.3)\n",
      "Requirement already satisfied: seaborn>=0.11.0 in c:\\users\\luiz.santos\\documents\\fiap grupo\\hackathon\\.venv\\lib\\site-packages (from ultralytics->-r requirements.txt (line 14)) (0.13.2)\n",
      "Requirement already satisfied: ultralytics-thop>=2.0.0 in c:\\users\\luiz.santos\\documents\\fiap grupo\\hackathon\\.venv\\lib\\site-packages (from ultralytics->-r requirements.txt (line 14)) (2.0.14)\n",
      "Requirement already satisfied: contourpy>=1.0.1 in c:\\users\\luiz.santos\\documents\\fiap grupo\\hackathon\\.venv\\lib\\site-packages (from matplotlib->roboflow->-r requirements.txt (line 10)) (1.3.1)\n",
      "Requirement already satisfied: fonttools>=4.22.0 in c:\\users\\luiz.santos\\documents\\fiap grupo\\hackathon\\.venv\\lib\\site-packages (from matplotlib->roboflow->-r requirements.txt (line 10)) (4.55.8)\n",
      "Requirement already satisfied: pyparsing>=2.3.1 in c:\\users\\luiz.santos\\documents\\fiap grupo\\hackathon\\.venv\\lib\\site-packages (from matplotlib->roboflow->-r requirements.txt (line 10)) (3.2.1)\n",
      "Requirement already satisfied: pytz>=2020.1 in c:\\users\\luiz.santos\\documents\\fiap grupo\\hackathon\\.venv\\lib\\site-packages (from pandas>=1.1.4->ultralytics->-r requirements.txt (line 14)) (2025.1)\n",
      "Requirement already satisfied: tzdata>=2022.7 in c:\\users\\luiz.santos\\documents\\fiap grupo\\hackathon\\.venv\\lib\\site-packages (from pandas>=1.1.4->ultralytics->-r requirements.txt (line 14)) (2025.1)\n",
      "Requirement already satisfied: charset-normalizer<4,>=2 in c:\\users\\luiz.santos\\documents\\fiap grupo\\hackathon\\.venv\\lib\\site-packages (from requests->kaggle->-r requirements.txt (line 1)) (3.4.1)\n",
      "Requirement already satisfied: filelock in c:\\users\\luiz.santos\\documents\\fiap grupo\\hackathon\\.venv\\lib\\site-packages (from torch>=1.8.0->ultralytics->-r requirements.txt (line 14)) (3.17.0)\n",
      "Requirement already satisfied: typing-extensions>=4.10.0 in c:\\users\\luiz.santos\\documents\\fiap grupo\\hackathon\\.venv\\lib\\site-packages (from torch>=1.8.0->ultralytics->-r requirements.txt (line 14)) (4.12.2)\n",
      "Requirement already satisfied: networkx in c:\\users\\luiz.santos\\documents\\fiap grupo\\hackathon\\.venv\\lib\\site-packages (from torch>=1.8.0->ultralytics->-r requirements.txt (line 14)) (3.4.2)\n",
      "Requirement already satisfied: jinja2 in c:\\users\\luiz.santos\\documents\\fiap grupo\\hackathon\\.venv\\lib\\site-packages (from torch>=1.8.0->ultralytics->-r requirements.txt (line 14)) (3.1.5)\n",
      "Requirement already satisfied: fsspec in c:\\users\\luiz.santos\\documents\\fiap grupo\\hackathon\\.venv\\lib\\site-packages (from torch>=1.8.0->ultralytics->-r requirements.txt (line 14)) (2024.12.0)\n",
      "Requirement already satisfied: sympy==1.13.1 in c:\\users\\luiz.santos\\documents\\fiap grupo\\hackathon\\.venv\\lib\\site-packages (from torch>=1.8.0->ultralytics->-r requirements.txt (line 14)) (1.13.1)\n",
      "Requirement already satisfied: mpmath<1.4,>=1.1.0 in c:\\users\\luiz.santos\\documents\\fiap grupo\\hackathon\\.venv\\lib\\site-packages (from sympy==1.13.1->torch>=1.8.0->ultralytics->-r requirements.txt (line 14)) (1.3.0)\n",
      "Requirement already satisfied: webencodings in c:\\users\\luiz.santos\\documents\\fiap grupo\\hackathon\\.venv\\lib\\site-packages (from bleach->kaggle->-r requirements.txt (line 1)) (0.5.1)\n",
      "Requirement already satisfied: cryptography in c:\\users\\luiz.santos\\documents\\fiap grupo\\hackathon\\.venv\\lib\\site-packages (from model-signing->kagglehub->-r requirements.txt (line 2)) (44.0.0)\n",
      "Requirement already satisfied: in-toto-attestation in c:\\users\\luiz.santos\\documents\\fiap grupo\\hackathon\\.venv\\lib\\site-packages (from model-signing->kagglehub->-r requirements.txt (line 2)) (0.9.3)\n",
      "Requirement already satisfied: sigstore in c:\\users\\luiz.santos\\documents\\fiap grupo\\hackathon\\.venv\\lib\\site-packages (from model-signing->kagglehub->-r requirements.txt (line 2)) (3.6.1)\n",
      "Requirement already satisfied: text-unidecode>=1.3 in c:\\users\\luiz.santos\\documents\\fiap grupo\\hackathon\\.venv\\lib\\site-packages (from python-slugify->kaggle->-r requirements.txt (line 1)) (1.3)\n",
      "Requirement already satisfied: cffi>=1.12 in c:\\users\\luiz.santos\\documents\\fiap grupo\\hackathon\\.venv\\lib\\site-packages (from cryptography->model-signing->kagglehub->-r requirements.txt (line 2)) (1.17.1)\n",
      "Requirement already satisfied: protobuf in c:\\users\\luiz.santos\\documents\\fiap grupo\\hackathon\\.venv\\lib\\site-packages (from in-toto-attestation->model-signing->kagglehub->-r requirements.txt (line 2)) (5.29.3)\n",
      "Requirement already satisfied: MarkupSafe>=2.0 in c:\\users\\luiz.santos\\documents\\fiap grupo\\hackathon\\.venv\\lib\\site-packages (from jinja2->torch>=1.8.0->ultralytics->-r requirements.txt (line 14)) (3.0.2)\n",
      "Requirement already satisfied: id>=1.1.0 in c:\\users\\luiz.santos\\documents\\fiap grupo\\hackathon\\.venv\\lib\\site-packages (from sigstore->model-signing->kagglehub->-r requirements.txt (line 2)) (1.5.0)\n",
      "Requirement already satisfied: pyasn1~=0.6 in c:\\users\\luiz.santos\\documents\\fiap grupo\\hackathon\\.venv\\lib\\site-packages (from sigstore->model-signing->kagglehub->-r requirements.txt (line 2)) (0.6.1)\n",
      "Requirement already satisfied: pydantic<3,>=2 in c:\\users\\luiz.santos\\documents\\fiap grupo\\hackathon\\.venv\\lib\\site-packages (from sigstore->model-signing->kagglehub->-r requirements.txt (line 2)) (2.10.6)\n",
      "Requirement already satisfied: pyjwt>=2.1 in c:\\users\\luiz.santos\\documents\\fiap grupo\\hackathon\\.venv\\lib\\site-packages (from sigstore->model-signing->kagglehub->-r requirements.txt (line 2)) (2.10.1)\n",
      "Requirement already satisfied: pyOpenSSL>=23.0.0 in c:\\users\\luiz.santos\\documents\\fiap grupo\\hackathon\\.venv\\lib\\site-packages (from sigstore->model-signing->kagglehub->-r requirements.txt (line 2)) (25.0.0)\n",
      "Requirement already satisfied: rich~=13.0 in c:\\users\\luiz.santos\\documents\\fiap grupo\\hackathon\\.venv\\lib\\site-packages (from sigstore->model-signing->kagglehub->-r requirements.txt (line 2)) (13.9.4)\n",
      "Requirement already satisfied: rfc8785~=0.1.2 in c:\\users\\luiz.santos\\documents\\fiap grupo\\hackathon\\.venv\\lib\\site-packages (from sigstore->model-signing->kagglehub->-r requirements.txt (line 2)) (0.1.4)\n",
      "Requirement already satisfied: rfc3161-client~=0.1.2 in c:\\users\\luiz.santos\\documents\\fiap grupo\\hackathon\\.venv\\lib\\site-packages (from sigstore->model-signing->kagglehub->-r requirements.txt (line 2)) (0.1.2)\n",
      "Requirement already satisfied: sigstore-protobuf-specs==0.3.2 in c:\\users\\luiz.santos\\documents\\fiap grupo\\hackathon\\.venv\\lib\\site-packages (from sigstore->model-signing->kagglehub->-r requirements.txt (line 2)) (0.3.2)\n",
      "Requirement already satisfied: sigstore-rekor-types==0.0.18 in c:\\users\\luiz.santos\\documents\\fiap grupo\\hackathon\\.venv\\lib\\site-packages (from sigstore->model-signing->kagglehub->-r requirements.txt (line 2)) (0.0.18)\n",
      "Requirement already satisfied: tuf~=5.0 in c:\\users\\luiz.santos\\documents\\fiap grupo\\hackathon\\.venv\\lib\\site-packages (from sigstore->model-signing->kagglehub->-r requirements.txt (line 2)) (5.1.0)\n",
      "Requirement already satisfied: platformdirs~=4.2 in c:\\users\\luiz.santos\\documents\\fiap grupo\\hackathon\\.venv\\lib\\site-packages (from sigstore->model-signing->kagglehub->-r requirements.txt (line 2)) (4.3.6)\n",
      "Requirement already satisfied: betterproto==2.0.0b6 in c:\\users\\luiz.santos\\documents\\fiap grupo\\hackathon\\.venv\\lib\\site-packages (from sigstore-protobuf-specs==0.3.2->sigstore->model-signing->kagglehub->-r requirements.txt (line 2)) (2.0.0b6)\n",
      "Requirement already satisfied: grpclib<0.5.0,>=0.4.1 in c:\\users\\luiz.santos\\documents\\fiap grupo\\hackathon\\.venv\\lib\\site-packages (from betterproto==2.0.0b6->sigstore-protobuf-specs==0.3.2->sigstore->model-signing->kagglehub->-r requirements.txt (line 2)) (0.4.7)\n",
      "Requirement already satisfied: pycparser in c:\\users\\luiz.santos\\documents\\fiap grupo\\hackathon\\.venv\\lib\\site-packages (from cffi>=1.12->cryptography->model-signing->kagglehub->-r requirements.txt (line 2)) (2.22)\n",
      "Requirement already satisfied: annotated-types>=0.6.0 in c:\\users\\luiz.santos\\documents\\fiap grupo\\hackathon\\.venv\\lib\\site-packages (from pydantic<3,>=2->sigstore->model-signing->kagglehub->-r requirements.txt (line 2)) (0.7.0)\n",
      "Requirement already satisfied: pydantic-core==2.27.2 in c:\\users\\luiz.santos\\documents\\fiap grupo\\hackathon\\.venv\\lib\\site-packages (from pydantic<3,>=2->sigstore->model-signing->kagglehub->-r requirements.txt (line 2)) (2.27.2)\n",
      "Requirement already satisfied: markdown-it-py>=2.2.0 in c:\\users\\luiz.santos\\documents\\fiap grupo\\hackathon\\.venv\\lib\\site-packages (from rich~=13.0->sigstore->model-signing->kagglehub->-r requirements.txt (line 2)) (3.0.0)\n",
      "Requirement already satisfied: pygments<3.0.0,>=2.13.0 in c:\\users\\luiz.santos\\documents\\fiap grupo\\hackathon\\.venv\\lib\\site-packages (from rich~=13.0->sigstore->model-signing->kagglehub->-r requirements.txt (line 2)) (2.19.1)\n",
      "Requirement already satisfied: securesystemslib~=1.0 in c:\\users\\luiz.santos\\documents\\fiap grupo\\hackathon\\.venv\\lib\\site-packages (from tuf~=5.0->sigstore->model-signing->kagglehub->-r requirements.txt (line 2)) (1.2.0)\n",
      "Requirement already satisfied: mdurl~=0.1 in c:\\users\\luiz.santos\\documents\\fiap grupo\\hackathon\\.venv\\lib\\site-packages (from markdown-it-py>=2.2.0->rich~=13.0->sigstore->model-signing->kagglehub->-r requirements.txt (line 2)) (0.1.2)\n",
      "Requirement already satisfied: email-validator>=2.0.0 in c:\\users\\luiz.santos\\documents\\fiap grupo\\hackathon\\.venv\\lib\\site-packages (from pydantic[email]<3,>=2->sigstore-rekor-types==0.0.18->sigstore->model-signing->kagglehub->-r requirements.txt (line 2)) (2.2.0)\n",
      "Requirement already satisfied: dnspython>=2.0.0 in c:\\users\\luiz.santos\\documents\\fiap grupo\\hackathon\\.venv\\lib\\site-packages (from email-validator>=2.0.0->pydantic[email]<3,>=2->sigstore-rekor-types==0.0.18->sigstore->model-signing->kagglehub->-r requirements.txt (line 2)) (2.7.0)\n",
      "Requirement already satisfied: h2<5,>=3.1.0 in c:\\users\\luiz.santos\\documents\\fiap grupo\\hackathon\\.venv\\lib\\site-packages (from grpclib<0.5.0,>=0.4.1->betterproto==2.0.0b6->sigstore-protobuf-specs==0.3.2->sigstore->model-signing->kagglehub->-r requirements.txt (line 2)) (4.2.0)\n",
      "Requirement already satisfied: multidict in c:\\users\\luiz.santos\\documents\\fiap grupo\\hackathon\\.venv\\lib\\site-packages (from grpclib<0.5.0,>=0.4.1->betterproto==2.0.0b6->sigstore-protobuf-specs==0.3.2->sigstore->model-signing->kagglehub->-r requirements.txt (line 2)) (6.1.0)\n",
      "Requirement already satisfied: hyperframe<7,>=6.1 in c:\\users\\luiz.santos\\documents\\fiap grupo\\hackathon\\.venv\\lib\\site-packages (from h2<5,>=3.1.0->grpclib<0.5.0,>=0.4.1->betterproto==2.0.0b6->sigstore-protobuf-specs==0.3.2->sigstore->model-signing->kagglehub->-r requirements.txt (line 2)) (6.1.0)\n",
      "Requirement already satisfied: hpack<5,>=4.1 in c:\\users\\luiz.santos\\documents\\fiap grupo\\hackathon\\.venv\\lib\\site-packages (from h2<5,>=3.1.0->grpclib<0.5.0,>=0.4.1->betterproto==2.0.0b6->sigstore-protobuf-specs==0.3.2->sigstore->model-signing->kagglehub->-r requirements.txt (line 2)) (4.1.0)\n"
     ]
    }
   ],
   "source": [
    "!pip install -r requirements.txt"
   ]
  },
  {
   "cell_type": "code",
   "execution_count": 2,
   "id": "ffcbf033",
   "metadata": {},
   "outputs": [],
   "source": [
    "import os"
   ]
  },
  {
   "cell_type": "code",
   "execution_count": 3,
   "id": "1cb05c56",
   "metadata": {},
   "outputs": [
    {
     "ename": "ModuleNotFoundError",
     "evalue": "No module named 'kagglehub'",
     "output_type": "error",
     "traceback": [
      "\u001b[1;31m---------------------------------------------------------------------------\u001b[0m",
      "\u001b[1;31mModuleNotFoundError\u001b[0m                       Traceback (most recent call last)",
      "Cell \u001b[1;32mIn[3], line 4\u001b[0m\n\u001b[0;32m      2\u001b[0m \u001b[38;5;28;01mfrom\u001b[39;00m \u001b[38;5;21;01minclude\u001b[39;00m\u001b[38;5;21;01m.\u001b[39;00m\u001b[38;5;21;01mutils\u001b[39;00m \u001b[38;5;28;01mimport\u001b[39;00m atualizar_datasets_dir, baixar_dataset\n\u001b[0;32m      3\u001b[0m \u001b[38;5;28;01mfrom\u001b[39;00m \u001b[38;5;21;01mkaggle\u001b[39;00m\u001b[38;5;21;01m.\u001b[39;00m\u001b[38;5;21;01mapi\u001b[39;00m\u001b[38;5;21;01m.\u001b[39;00m\u001b[38;5;21;01mkaggle_api_extended\u001b[39;00m \u001b[38;5;28;01mimport\u001b[39;00m KaggleApi\n\u001b[1;32m----> 4\u001b[0m \u001b[38;5;28;01mimport\u001b[39;00m \u001b[38;5;21;01mkagglehub\u001b[39;00m\n",
      "\u001b[1;31mModuleNotFoundError\u001b[0m: No module named 'kagglehub'"
     ]
    }
   ],
   "source": [
    "from dotenv import load_dotenv\n",
    "from include.utils import atualizar_datasets_dir, baixar_dataset\n",
    "from kaggle.api.kaggle_api_extended import KaggleApi"
   ]
  },
  {
   "cell_type": "code",
   "execution_count": null,
   "id": "7cdbbf1f",
   "metadata": {},
   "outputs": [],
   "source": [
    "# Usar somente se deixar alguma variável protegida, como a senha do email (isso se decidirmos mandar alerta por e-mail)\n",
    "load_dotenv()"
   ]
  },
  {
   "cell_type": "code",
   "execution_count": null,
   "id": "50a1ce9e",
   "metadata": {},
   "outputs": [],
   "source": [
    "# Inicializar a API do Kaggle\n",
    "api = KaggleApi()\n",
    "api.authenticate()"
   ]
  },
  {
   "cell_type": "code",
   "execution_count": null,
   "id": "8fabbcd3",
   "metadata": {},
   "outputs": [],
   "source": [
    "current_dir = os.getcwd()\n",
    "diretorio_imagens = os.path.join(current_dir, 'arquivo', 'imagens')\n",
    "diretorio_kaggle = \"feliparus/knife-scissors-and-cutter-detection-dataset\" # sovazdataset/knife-dataset"
   ]
  },
  {
   "cell_type": "code",
   "execution_count": null,
   "id": "21b7147e",
   "metadata": {},
   "outputs": [],
   "source": [
    "baixar_dataset(api, diretorio_kaggle, diretorio_imagens)\n",
    "\n",
    "# Atualizar o campo `datasets_dir` no arquivo settings.json da Ultralytics\n",
    "atualizar_datasets_dir(\"./\")"
   ]
  }
 ],
 "metadata": {
  "jupytext": {
   "cell_metadata_filter": "-all",
   "main_language": "python",
   "notebook_metadata_filter": "-all"
  },
  "kernelspec": {
   "display_name": "Python 3 (ipykernel)",
   "language": "python",
   "name": "python3"
  },
  "language_info": {
   "codemirror_mode": {
    "name": "ipython",
    "version": 3
   },
   "file_extension": ".py",
   "mimetype": "text/x-python",
   "name": "python",
   "nbconvert_exporter": "python",
   "pygments_lexer": "ipython3",
   "version": "3.12.4"
  }
 },
 "nbformat": 4,
 "nbformat_minor": 5
}
