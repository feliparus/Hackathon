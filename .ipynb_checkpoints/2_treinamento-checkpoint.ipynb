{
 "cells": [
  {
   "cell_type": "code",
   "execution_count": 1,
   "id": "2795701d",
   "metadata": {},
   "outputs": [],
   "source": [
    "import os\n",
    "import shutil\n",
    "import torch"
   ]
  },
  {
   "cell_type": "code",
   "execution_count": 2,
   "id": "7da1b3bf",
   "metadata": {},
   "outputs": [],
   "source": [
    "from include.utils import dividir_dataset, mover_labels_imagens\n",
    "from ultralytics import YOLO"
   ]
  },
  {
   "cell_type": "code",
   "execution_count": 3,
   "id": "fd2b8c92",
   "metadata": {},
   "outputs": [],
   "source": [
    "class ModeloYolo:\n",
    "    def __init__(self, modelo_path, output_dir):\n",
    "        self.modelo = YOLO(modelo_path)\n",
    "        self.output_dir = output_dir\n",
    "        os.makedirs(output_dir, exist_ok=True)\n",
    "\n",
    "    def treinar(self, dataset_path, epochs_treinamento=50, batch_size=16, imgsz=640, lr=0.001, patience=3):\n",
    "        print(\"Iniciando o treinamento...\")\n",
    "        \n",
    "        best_loss = float('inf')\n",
    "        epochs_no_improvement = 0\n",
    "        start_epoch = 0\n",
    "        \n",
    "        checkpoint_path = os.path.join(self.output_dir, 'checkpoint.pt')\n",
    "\n",
    "        # Carregar checkpoint se existir\n",
    "        if os.path.exists(checkpoint_path):\n",
    "            print(\"Checkpoint encontrado. Carregando...\")\n",
    "            self.modelo = YOLO(checkpoint_path)\n",
    "            with open(os.path.join(self.output_dir, 'checkpoint_info.txt'), 'r') as f:\n",
    "                start_epoch = int(f.read())\n",
    "            print(f\"Retomando do epoch {start_epoch + 1}\")\n",
    "    \n",
    "        for epoch in range(start_epoch, epochs_treinamento):\n",
    "            print(f\"\\nÉpoca {epoch + 1}/{epochs}\")\n",
    "    \n",
    "            results = self.modelo.train(\n",
    "                data=dataset_path,\n",
    "                imgsz=imgsz,\n",
    "                batch=batch_size,\n",
    "                epochs=epoch,\n",
    "                lr0=lr,\n",
    "                augment=True,\n",
    "                verbose=False,\n",
    "                resume=False,\n",
    "                device=\"cpu\"\n",
    "            )\n",
    "    \n",
    "            metrics = results.results_dict\n",
    "            current_loss = metrics.get('train_loss', float('inf'))\n",
    "    \n",
    "            # Salvar o modelo se a perda melhorar\n",
    "            if current_loss < best_loss:\n",
    "                best_loss = current_loss\n",
    "                epochs_no_improvement = 0\n",
    "                best_model_path = os.path.join(self.output_dir, 'modelo_treinado.pt')\n",
    "                self.modelo.save(best_model_path)  # Salvar o modelo completo\n",
    "                print(f\"Modelo melhorado salvo em: {best_model_path} com perda: {current_loss:.4f}\")\n",
    "            else:\n",
    "                epochs_no_improvement += 1\n",
    "                print(f\"Sem melhora na perda ({current_loss:.4f}), paciência: {epochs_no_improvement}/{patience}\")\n",
    "    \n",
    "            # Salvar checkpoint do modelo\n",
    "            checkpoint_path = os.path.join(self.output_dir, f'checkpoint_epoch_{epoch}.pt')\n",
    "            self.modelo.save(checkpoint_path)\n",
    "            with open(os.path.join(self.output_dir, 'checkpoint_info.txt'), 'w') as f:\n",
    "                f.write(str(epoch))\n",
    "            print(f\"Checkpoint salvo em: {checkpoint_path}\")\n",
    "    \n",
    "            if epochs_no_improvement >= patience:\n",
    "                print(\"Parada antecipada ativada. Treinamento interrompido.\")\n",
    "                break\n",
    "    \n",
    "        final_model_path = os.path.join(self.output_dir, 'modelo_treinado.pt')\n",
    "        self.modelo.save(final_model_path)  # Salvar o modelo completo\n",
    "        print(f\"Modelo final salvo em: {final_model_path}\")\n",
    "\n",
    "        print(\"Treinamento concluído.\")"
   ]
  },
  {
   "cell_type": "code",
   "execution_count": 4,
   "id": "f766b25c",
   "metadata": {},
   "outputs": [
    {
     "name": "stdout",
     "output_type": "stream",
     "text": [
      "Divisão do dataset concluída: 276 imagens para treino, 34 para validação, 35 para teste.\n",
      "Downloading https://github.com/ultralytics/assets/releases/download/v8.3.0/yolo11s.pt to 'C:\\Users\\luiz.santos\\Documents\\FIAP Grupo\\Hackathon\\modelo\\yolo11s.pt'...\n"
     ]
    },
    {
     "name": "stderr",
     "output_type": "stream",
     "text": [
      "100%|█████████████████████████████████████████████████████████████████████████████████████████████████████████████████████████████████████████████████| 18.4M/18.4M [00:01<00:00, 15.2MB/s]\n"
     ]
    },
    {
     "name": "stdout",
     "output_type": "stream",
     "text": [
      "Iniciando o treinamento...\n"
     ]
    },
    {
     "ename": "NameError",
     "evalue": "name 'epochs' is not defined",
     "output_type": "error",
     "traceback": [
      "\u001b[1;31m---------------------------------------------------------------------------\u001b[0m",
      "\u001b[1;31mNameError\u001b[0m                                 Traceback (most recent call last)",
      "Cell \u001b[1;32mIn[4], line 16\u001b[0m\n\u001b[0;32m     14\u001b[0m modelo \u001b[38;5;241m=\u001b[39m os\u001b[38;5;241m.\u001b[39mpath\u001b[38;5;241m.\u001b[39mjoin(caminho_modelo,\u001b[38;5;124m'\u001b[39m\u001b[38;5;124myolo11s.pt\u001b[39m\u001b[38;5;124m'\u001b[39m)\n\u001b[0;32m     15\u001b[0m classe_modelo \u001b[38;5;241m=\u001b[39m ModeloYolo(modelo, caminho_modelo)\n\u001b[1;32m---> 16\u001b[0m classe_modelo\u001b[38;5;241m.\u001b[39mtreinar(caminho_yaml, epochs_treinamento\u001b[38;5;241m=\u001b[39m\u001b[38;5;241m5\u001b[39m)\n",
      "Cell \u001b[1;32mIn[3], line 24\u001b[0m, in \u001b[0;36mModeloYolo.treinar\u001b[1;34m(self, dataset_path, epochs_treinamento, batch_size, imgsz, lr, patience)\u001b[0m\n\u001b[0;32m     21\u001b[0m         start_epoch \u001b[38;5;241m=\u001b[39m \u001b[38;5;28mint\u001b[39m(f\u001b[38;5;241m.\u001b[39mread())\n\u001b[0;32m     22\u001b[0m     \u001b[38;5;28mprint\u001b[39m(\u001b[38;5;124mf\u001b[39m\u001b[38;5;124m\"\u001b[39m\u001b[38;5;124mRetomando do epoch \u001b[39m\u001b[38;5;132;01m{\u001b[39;00mstart_epoch\u001b[38;5;250m \u001b[39m\u001b[38;5;241m+\u001b[39m\u001b[38;5;250m \u001b[39m\u001b[38;5;241m1\u001b[39m\u001b[38;5;132;01m}\u001b[39;00m\u001b[38;5;124m\"\u001b[39m)\n\u001b[1;32m---> 24\u001b[0m \u001b[38;5;28;01mfor\u001b[39;00m epoch \u001b[38;5;129;01min\u001b[39;00m \u001b[38;5;28mrange\u001b[39m(start_epoch, epochs):\n\u001b[0;32m     25\u001b[0m     \u001b[38;5;28mprint\u001b[39m(\u001b[38;5;124mf\u001b[39m\u001b[38;5;124m\"\u001b[39m\u001b[38;5;130;01m\\n\u001b[39;00m\u001b[38;5;124mÉpoca \u001b[39m\u001b[38;5;132;01m{\u001b[39;00mepoch\u001b[38;5;250m \u001b[39m\u001b[38;5;241m+\u001b[39m\u001b[38;5;250m \u001b[39m\u001b[38;5;241m1\u001b[39m\u001b[38;5;132;01m}\u001b[39;00m\u001b[38;5;124m/\u001b[39m\u001b[38;5;132;01m{\u001b[39;00mepochs\u001b[38;5;132;01m}\u001b[39;00m\u001b[38;5;124m\"\u001b[39m)\n\u001b[0;32m     27\u001b[0m     results \u001b[38;5;241m=\u001b[39m \u001b[38;5;28mself\u001b[39m\u001b[38;5;241m.\u001b[39mmodelo\u001b[38;5;241m.\u001b[39mtrain(\n\u001b[0;32m     28\u001b[0m         data\u001b[38;5;241m=\u001b[39mdataset_path,\n\u001b[0;32m     29\u001b[0m         imgsz\u001b[38;5;241m=\u001b[39mimgsz,\n\u001b[1;32m   (...)\u001b[0m\n\u001b[0;32m     36\u001b[0m         device\u001b[38;5;241m=\u001b[39m\u001b[38;5;124m\"\u001b[39m\u001b[38;5;124mcpu\u001b[39m\u001b[38;5;124m\"\u001b[39m\n\u001b[0;32m     37\u001b[0m     )\n",
      "\u001b[1;31mNameError\u001b[0m: name 'epochs' is not defined"
     ]
    }
   ],
   "source": [
    "current_dir = os.getcwd()\n",
    "\n",
    "caminho_imagens = os.path.join(current_dir, 'arquivo', 'imagens')  # Pasta onde as imagens estão\n",
    "caminho_modelo = os.path.join(current_dir, 'modelo')  # Diretório onde o modelo treinado será salvo\n",
    "caminho_test = os.path.join(current_dir, 'treinamento', 'test')  # Pasta para as imagens de teste\n",
    "caminho_treino = os.path.join(current_dir, 'treinamento', 'train')  # Pasta para as imagens de treino\n",
    "caminho_val = os.path.join(current_dir, 'treinamento', 'val')  # Pasta para as imagens de validação\n",
    "caminho_yaml = os.path.join(current_dir, 'dataset.yaml')  # Caminho para o arquivo YAML de configuração do dataset\n",
    "\n",
    "# Dividir o dataset\n",
    "dividir_dataset(caminho_imagens, caminho_treino, caminho_val, caminho_test)\n",
    "\n",
    "# Inicializar e treinar o modelo\n",
    "modelo = os.path.join(caminho_modelo,'yolo11s.pt')\n",
    "classe_modelo = ModeloYolo(modelo, caminho_modelo)\n",
    "classe_modelo.treinar(caminho_yaml, epochs_treinamento=5) # rodando em menos épocas pois o pc ainda está usando cpu, será ajustado depois"
   ]
  },
  {
   "cell_type": "code",
   "execution_count": null,
   "id": "f9bff98f-4fc1-461b-affe-232e1571fbd4",
   "metadata": {},
   "outputs": [],
   "source": [
    "current_dir = os.getcwd()\n",
    "\n",
    "caminho_imagens = os.path.join(current_dir, 'arquivo', 'imagens')  # Pasta onde as imagens estão\n",
    "caminho_modelo = os.path.join(current_dir, 'modelo')  # Diretório onde o modelo treinado será salvo\n",
    "\n",
    "# Avaliando modelo\n",
    "caminho_modelo_treinado = os.path.join(caminho_modelo,'modelo_treinado.pt')  # Diretório do modelo treinado\n",
    "modelo = YOLO(caminho_modelo_treinado)\n",
    "modelo.val()\n",
    "\n",
    "caminho_imagem_teste = os.path.join(caminho_imagens, 'img_425.jpg')\n",
    "results = modelo(caminho_imagem_teste)\n",
    "\n",
    "caminho_imagem_teste = os.path.join(caminho_imagens, 'img_500.jpg')\n",
    "results = modelo(caminho_imagem_teste)\n",
    "\n",
    "caminho_imagem_teste = os.path.join(caminho_imagens, 'img_650.jpg')\n",
    "results = modelo(caminho_imagem_teste)"
   ]
  }
 ],
 "metadata": {
  "jupytext": {
   "cell_metadata_filter": "-all",
   "main_language": "python",
   "notebook_metadata_filter": "-all"
  },
  "kernelspec": {
   "display_name": "Python 3 (ipykernel)",
   "language": "python",
   "name": "python3"
  },
  "language_info": {
   "codemirror_mode": {
    "name": "ipython",
    "version": 3
   },
   "file_extension": ".py",
   "mimetype": "text/x-python",
   "name": "python",
   "nbconvert_exporter": "python",
   "pygments_lexer": "ipython3",
   "version": "3.12.4"
  }
 },
 "nbformat": 4,
 "nbformat_minor": 5
}
