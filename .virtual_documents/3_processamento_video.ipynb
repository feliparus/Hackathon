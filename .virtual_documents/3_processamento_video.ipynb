import os


from include.utils import detectar_video_yaml
from ultralytics import YOLO


current_dir = os.getcwd()

caminho_video_original = os.path.join(current_dir, "arquivo", "videos", "video.mp4") # Caminho do video que será processado
caminho_video_processado = os.path.join(current_dir, "arquivo", "videos", "video_processado.mp4") # Caminho que vai gravar o video processado
caminho_modelo = os.path.join(current_dir,'modelo', 'modelo_treinado.pt') # Caminho do modelo treinado
caminho_yaml = os.path.join(current_dir, 'dataset.yaml') # Caminho para o arquivo YAML de configuração do dataset

modelo = YOLO(caminho_modelo)


detectar_video_yaml(caminho_video_original, caminho_yaml, caminho_video_processado,modelo)
