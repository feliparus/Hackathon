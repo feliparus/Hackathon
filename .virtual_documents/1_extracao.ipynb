!pip install -r requirements.txt


import os


from dotenv import load_dotenv
from include.utils import atualizar_datasets_dir, baixar_dataset
from kaggle.api.kaggle_api_extended import KaggleApi


# Usar somente se deixar alguma variável protegida, como a senha do email (isso se decidirmos mandar alerta por e-mail)
load_dotenv()


# Inicializar a API do Kaggle
api = KaggleApi()
api.authenticate()


current_dir = os.getcwd()
diretorio_imagens = os.path.join(current_dir, 'arquivo', 'imagens')
diretorio_kaggle = "feliparus/knife-scissors-and-cutter-detection-dataset" # sovazdataset/knife-dataset


baixar_dataset(api, diretorio_kaggle, diretorio_imagens)

# Atualizar o campo `datasets_dir` no arquivo settings.json da Ultralytics
atualizar_datasets_dir("./")
