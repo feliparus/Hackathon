{
 "cells": [
  {
   "cell_type": "code",
   "id": "79811cc8-019a-4829-961b-dba946b5c3a3",
   "metadata": {
    "ExecuteTime": {
     "end_time": "2025-02-12T01:30:55.273062Z",
     "start_time": "2025-02-12T01:30:30.405574Z"
    }
   },
   "source": [
    "!pip install -r requirements.txt"
   ],
   "outputs": [
    {
     "name": "stdout",
     "output_type": "stream",
     "text": [
      "Collecting kaggle (from -r requirements.txt (line 1))\n",
      "  Using cached kaggle-1.6.17-py3-none-any.whl\n",
      "Collecting labelimg (from -r requirements.txt (line 2))\n",
      "  Using cached labelImg-1.8.6-py2.py3-none-any.whl\n",
      "Collecting lxml (from -r requirements.txt (line 3))\n",
      "  Obtaining dependency information for lxml from https://files.pythonhosted.org/packages/2b/9c/8abe21585d20ef70ad9cec7562da4332b764ed69ec29b7389d23dfabcea0/lxml-5.3.1-cp312-cp312-win_amd64.whl.metadata\n",
      "  Downloading lxml-5.3.1-cp312-cp312-win_amd64.whl.metadata (3.8 kB)\n",
      "Requirement already satisfied: numpy in c:\\users\\pichau\\pycharmprojects\\testes-yolo\\.venv\\lib\\site-packages (from -r requirements.txt (line 4)) (2.0.2)\n",
      "Requirement already satisfied: opencv-python in c:\\users\\pichau\\pycharmprojects\\testes-yolo\\.venv\\lib\\site-packages (from -r requirements.txt (line 5)) (4.11.0.86)\n",
      "Collecting pyqt5 (from -r requirements.txt (line 6))\n",
      "  Obtaining dependency information for pyqt5 from https://files.pythonhosted.org/packages/56/d5/68eb9f3d19ce65df01b6c7b7a577ad3bbc9ab3a5dd3491a4756e71838ec9/PyQt5-5.15.11-cp38-abi3-win_amd64.whl.metadata\n",
      "  Using cached PyQt5-5.15.11-cp38-abi3-win_amd64.whl.metadata (2.1 kB)\n",
      "Collecting python-dotenv (from -r requirements.txt (line 7))\n",
      "  Obtaining dependency information for python-dotenv from https://files.pythonhosted.org/packages/6a/3e/b68c118422ec867fa7ab88444e1274aa40681c606d59ac27de5a5588f082/python_dotenv-1.0.1-py3-none-any.whl.metadata\n",
      "  Using cached python_dotenv-1.0.1-py3-none-any.whl.metadata (23 kB)\n",
      "Requirement already satisfied: PyYAML in c:\\users\\pichau\\pycharmprojects\\testes-yolo\\.venv\\lib\\site-packages (from -r requirements.txt (line 8)) (6.0.2)\n",
      "Collecting roboflow (from -r requirements.txt (line 9))\n",
      "  Obtaining dependency information for roboflow from https://files.pythonhosted.org/packages/b3/2a/2d6e575df7409568e73faf683cc166c83b585f5446a16fcdbb5b4ee51a5c/roboflow-1.1.53-py3-none-any.whl.metadata\n",
      "  Downloading roboflow-1.1.53-py3-none-any.whl.metadata (9.7 kB)\n",
      "Collecting scikit-learn (from -r requirements.txt (line 10))\n",
      "  Obtaining dependency information for scikit-learn from https://files.pythonhosted.org/packages/62/27/585859e72e117fe861c2079bcba35591a84f801e21bc1ab85bce6ce60305/scikit_learn-1.6.1-cp312-cp312-win_amd64.whl.metadata\n",
      "  Using cached scikit_learn-1.6.1-cp312-cp312-win_amd64.whl.metadata (15 kB)\n",
      "Collecting sip (from -r requirements.txt (line 11))\n",
      "  Obtaining dependency information for sip from https://files.pythonhosted.org/packages/04/85/317e2d2a3e926e928c85ea935bc5991ae09181ebdc724b4144546656fbce/sip-6.10.0-1-py3-none-any.whl.metadata\n",
      "  Downloading sip-6.10.0-1-py3-none-any.whl.metadata (5.3 kB)\n",
      "Requirement already satisfied: tqdm in c:\\users\\pichau\\pycharmprojects\\testes-yolo\\.venv\\lib\\site-packages (from -r requirements.txt (line 12)) (4.67.1)\n",
      "Requirement already satisfied: ultralytics in c:\\users\\pichau\\pycharmprojects\\testes-yolo\\.venv\\lib\\site-packages (from -r requirements.txt (line 13)) (8.3.70)\n",
      "Requirement already satisfied: pytz in c:\\users\\pichau\\pycharmprojects\\testes-yolo\\.venv\\lib\\site-packages (from -r requirements.txt (line 14)) (2025.1)\n",
      "Requirement already satisfied: six>=1.10 in c:\\users\\pichau\\pycharmprojects\\testes-yolo\\.venv\\lib\\site-packages (from kaggle->-r requirements.txt (line 1)) (1.17.0)\n",
      "Requirement already satisfied: certifi>=2023.7.22 in c:\\users\\pichau\\pycharmprojects\\testes-yolo\\.venv\\lib\\site-packages (from kaggle->-r requirements.txt (line 1)) (2025.1.31)\n",
      "Requirement already satisfied: python-dateutil in c:\\users\\pichau\\pycharmprojects\\testes-yolo\\.venv\\lib\\site-packages (from kaggle->-r requirements.txt (line 1)) (2.9.0.post0)\n",
      "Requirement already satisfied: requests in c:\\users\\pichau\\pycharmprojects\\testes-yolo\\.venv\\lib\\site-packages (from kaggle->-r requirements.txt (line 1)) (2.32.3)\n",
      "Collecting python-slugify (from kaggle->-r requirements.txt (line 1))\n",
      "  Obtaining dependency information for python-slugify from https://files.pythonhosted.org/packages/a4/62/02da182e544a51a5c3ccf4b03ab79df279f9c60c5e82d5e8bec7ca26ac11/python_slugify-8.0.4-py2.py3-none-any.whl.metadata\n",
      "  Using cached python_slugify-8.0.4-py2.py3-none-any.whl.metadata (8.5 kB)\n",
      "Requirement already satisfied: urllib3 in c:\\users\\pichau\\pycharmprojects\\testes-yolo\\.venv\\lib\\site-packages (from kaggle->-r requirements.txt (line 1)) (2.3.0)\n",
      "Requirement already satisfied: bleach in c:\\users\\pichau\\pycharmprojects\\testes-yolo\\.venv\\lib\\site-packages (from kaggle->-r requirements.txt (line 1)) (6.2.0)\n",
      "Collecting PyQt5-sip<13,>=12.15 (from pyqt5->-r requirements.txt (line 6))\n",
      "  Obtaining dependency information for PyQt5-sip<13,>=12.15 from https://files.pythonhosted.org/packages/fe/c5/1174988d52c732d07033cf9a5067142b01d76be7731c6394a64d5c3ef65c/PyQt5_sip-12.17.0-cp312-cp312-win_amd64.whl.metadata\n",
      "  Downloading PyQt5_sip-12.17.0-cp312-cp312-win_amd64.whl.metadata (492 bytes)\n",
      "Collecting PyQt5-Qt5<5.16.0,>=5.15.2 (from pyqt5->-r requirements.txt (line 6))\n",
      "  Obtaining dependency information for PyQt5-Qt5<5.16.0,>=5.15.2 from https://files.pythonhosted.org/packages/37/97/5d3b222b924fa2ed4c2488925155cd0b03fd5d09ee1cfcf7c553c11c9f66/PyQt5_Qt5-5.15.2-py3-none-win_amd64.whl.metadata\n",
      "  Using cached PyQt5_Qt5-5.15.2-py3-none-win_amd64.whl.metadata (552 bytes)\n",
      "Collecting idna==3.7 (from roboflow->-r requirements.txt (line 9))\n",
      "  Obtaining dependency information for idna==3.7 from https://files.pythonhosted.org/packages/e5/3e/741d8c82801c347547f8a2a06aa57dbb1992be9e948df2ea0eda2c8b79e8/idna-3.7-py3-none-any.whl.metadata\n",
      "  Using cached idna-3.7-py3-none-any.whl.metadata (9.9 kB)\n",
      "Requirement already satisfied: cycler in c:\\users\\pichau\\pycharmprojects\\testes-yolo\\.venv\\lib\\site-packages (from roboflow->-r requirements.txt (line 9)) (0.12.1)\n",
      "Requirement already satisfied: kiwisolver>=1.3.1 in c:\\users\\pichau\\pycharmprojects\\testes-yolo\\.venv\\lib\\site-packages (from roboflow->-r requirements.txt (line 9)) (1.4.8)\n",
      "Requirement already satisfied: matplotlib in c:\\users\\pichau\\pycharmprojects\\testes-yolo\\.venv\\lib\\site-packages (from roboflow->-r requirements.txt (line 9)) (3.10.0)\n",
      "Collecting opencv-python-headless==4.10.0.84 (from roboflow->-r requirements.txt (line 9))\n",
      "  Obtaining dependency information for opencv-python-headless==4.10.0.84 from https://files.pythonhosted.org/packages/26/d0/22f68eb23eea053a31655960f133c0be9726c6a881547e6e9e7e2a946c4f/opencv_python_headless-4.10.0.84-cp37-abi3-win_amd64.whl.metadata\n",
      "  Using cached opencv_python_headless-4.10.0.84-cp37-abi3-win_amd64.whl.metadata (20 kB)\n",
      "Requirement already satisfied: Pillow>=7.1.2 in c:\\users\\pichau\\pycharmprojects\\testes-yolo\\.venv\\lib\\site-packages (from roboflow->-r requirements.txt (line 9)) (11.1.0)\n",
      "Collecting requests-toolbelt (from roboflow->-r requirements.txt (line 9))\n",
      "  Obtaining dependency information for requests-toolbelt from https://files.pythonhosted.org/packages/3f/51/d4db610ef29373b879047326cbf6fa98b6c1969d6f6dc423279de2b1be2c/requests_toolbelt-1.0.0-py2.py3-none-any.whl.metadata\n",
      "  Using cached requests_toolbelt-1.0.0-py2.py3-none-any.whl.metadata (14 kB)\n",
      "Collecting filetype (from roboflow->-r requirements.txt (line 9))\n",
      "  Obtaining dependency information for filetype from https://files.pythonhosted.org/packages/18/79/1b8fa1bb3568781e84c9200f951c735f3f157429f44be0495da55894d620/filetype-1.2.0-py2.py3-none-any.whl.metadata\n",
      "  Using cached filetype-1.2.0-py2.py3-none-any.whl.metadata (6.5 kB)\n",
      "Requirement already satisfied: scipy>=1.6.0 in c:\\users\\pichau\\pycharmprojects\\testes-yolo\\.venv\\lib\\site-packages (from scikit-learn->-r requirements.txt (line 10)) (1.15.1)\n",
      "Collecting joblib>=1.2.0 (from scikit-learn->-r requirements.txt (line 10))\n",
      "  Obtaining dependency information for joblib>=1.2.0 from https://files.pythonhosted.org/packages/91/29/df4b9b42f2be0b623cbd5e2140cafcaa2bef0759a00b7b70104dcfe2fb51/joblib-1.4.2-py3-none-any.whl.metadata\n",
      "  Using cached joblib-1.4.2-py3-none-any.whl.metadata (5.4 kB)\n",
      "Collecting threadpoolctl>=3.1.0 (from scikit-learn->-r requirements.txt (line 10))\n",
      "  Obtaining dependency information for threadpoolctl>=3.1.0 from https://files.pythonhosted.org/packages/4b/2c/ffbf7a134b9ab11a67b0cf0726453cedd9c5043a4fe7a35d1cefa9a1bcfb/threadpoolctl-3.5.0-py3-none-any.whl.metadata\n",
      "  Using cached threadpoolctl-3.5.0-py3-none-any.whl.metadata (13 kB)\n",
      "Requirement already satisfied: packaging in c:\\users\\pichau\\pycharmprojects\\testes-yolo\\.venv\\lib\\site-packages (from sip->-r requirements.txt (line 11)) (24.2)\n",
      "Requirement already satisfied: setuptools>=69.5 in c:\\users\\pichau\\pycharmprojects\\testes-yolo\\.venv\\lib\\site-packages (from sip->-r requirements.txt (line 11)) (75.8.0)\n",
      "Requirement already satisfied: colorama in c:\\users\\pichau\\pycharmprojects\\testes-yolo\\.venv\\lib\\site-packages (from tqdm->-r requirements.txt (line 12)) (0.4.6)\n",
      "Requirement already satisfied: torch>=1.8.0 in c:\\users\\pichau\\pycharmprojects\\testes-yolo\\.venv\\lib\\site-packages (from ultralytics->-r requirements.txt (line 13)) (2.5.1+cu121)\n",
      "Requirement already satisfied: torchvision>=0.9.0 in c:\\users\\pichau\\pycharmprojects\\testes-yolo\\.venv\\lib\\site-packages (from ultralytics->-r requirements.txt (line 13)) (0.20.1+cu121)\n",
      "Requirement already satisfied: psutil in c:\\users\\pichau\\pycharmprojects\\testes-yolo\\.venv\\lib\\site-packages (from ultralytics->-r requirements.txt (line 13)) (6.1.1)\n",
      "Requirement already satisfied: py-cpuinfo in c:\\users\\pichau\\pycharmprojects\\testes-yolo\\.venv\\lib\\site-packages (from ultralytics->-r requirements.txt (line 13)) (9.0.0)\n",
      "Requirement already satisfied: pandas>=1.1.4 in c:\\users\\pichau\\pycharmprojects\\testes-yolo\\.venv\\lib\\site-packages (from ultralytics->-r requirements.txt (line 13)) (2.2.3)\n",
      "Requirement already satisfied: seaborn>=0.11.0 in c:\\users\\pichau\\pycharmprojects\\testes-yolo\\.venv\\lib\\site-packages (from ultralytics->-r requirements.txt (line 13)) (0.13.2)\n",
      "Requirement already satisfied: ultralytics-thop>=2.0.0 in c:\\users\\pichau\\pycharmprojects\\testes-yolo\\.venv\\lib\\site-packages (from ultralytics->-r requirements.txt (line 13)) (2.0.14)\n",
      "Requirement already satisfied: contourpy>=1.0.1 in c:\\users\\pichau\\pycharmprojects\\testes-yolo\\.venv\\lib\\site-packages (from matplotlib->roboflow->-r requirements.txt (line 9)) (1.3.1)\n",
      "Requirement already satisfied: fonttools>=4.22.0 in c:\\users\\pichau\\pycharmprojects\\testes-yolo\\.venv\\lib\\site-packages (from matplotlib->roboflow->-r requirements.txt (line 9)) (4.55.8)\n",
      "Requirement already satisfied: pyparsing>=2.3.1 in c:\\users\\pichau\\pycharmprojects\\testes-yolo\\.venv\\lib\\site-packages (from matplotlib->roboflow->-r requirements.txt (line 9)) (3.2.1)\n",
      "Requirement already satisfied: tzdata>=2022.7 in c:\\users\\pichau\\pycharmprojects\\testes-yolo\\.venv\\lib\\site-packages (from pandas>=1.1.4->ultralytics->-r requirements.txt (line 13)) (2025.1)\n",
      "Requirement already satisfied: charset-normalizer<4,>=2 in c:\\users\\pichau\\pycharmprojects\\testes-yolo\\.venv\\lib\\site-packages (from requests->kaggle->-r requirements.txt (line 1)) (3.4.1)\n",
      "Requirement already satisfied: filelock in c:\\users\\pichau\\pycharmprojects\\testes-yolo\\.venv\\lib\\site-packages (from torch>=1.8.0->ultralytics->-r requirements.txt (line 13)) (3.17.0)\n",
      "Requirement already satisfied: typing-extensions>=4.8.0 in c:\\users\\pichau\\pycharmprojects\\testes-yolo\\.venv\\lib\\site-packages (from torch>=1.8.0->ultralytics->-r requirements.txt (line 13)) (4.12.2)\n",
      "Requirement already satisfied: networkx in c:\\users\\pichau\\pycharmprojects\\testes-yolo\\.venv\\lib\\site-packages (from torch>=1.8.0->ultralytics->-r requirements.txt (line 13)) (3.4.2)\n",
      "Requirement already satisfied: jinja2 in c:\\users\\pichau\\pycharmprojects\\testes-yolo\\.venv\\lib\\site-packages (from torch>=1.8.0->ultralytics->-r requirements.txt (line 13)) (3.1.5)\n",
      "Requirement already satisfied: fsspec in c:\\users\\pichau\\pycharmprojects\\testes-yolo\\.venv\\lib\\site-packages (from torch>=1.8.0->ultralytics->-r requirements.txt (line 13)) (2025.2.0)\n",
      "Requirement already satisfied: sympy==1.13.1 in c:\\users\\pichau\\pycharmprojects\\testes-yolo\\.venv\\lib\\site-packages (from torch>=1.8.0->ultralytics->-r requirements.txt (line 13)) (1.13.1)\n",
      "Requirement already satisfied: mpmath<1.4,>=1.1.0 in c:\\users\\pichau\\pycharmprojects\\testes-yolo\\.venv\\lib\\site-packages (from sympy==1.13.1->torch>=1.8.0->ultralytics->-r requirements.txt (line 13)) (1.3.0)\n",
      "Requirement already satisfied: webencodings in c:\\users\\pichau\\pycharmprojects\\testes-yolo\\.venv\\lib\\site-packages (from bleach->kaggle->-r requirements.txt (line 1)) (0.5.1)\n",
      "Collecting text-unidecode>=1.3 (from python-slugify->kaggle->-r requirements.txt (line 1))\n",
      "  Obtaining dependency information for text-unidecode>=1.3 from https://files.pythonhosted.org/packages/a6/a5/c0b6468d3824fe3fde30dbb5e1f687b291608f9473681bbf7dabbf5a87d7/text_unidecode-1.3-py2.py3-none-any.whl.metadata\n",
      "  Using cached text_unidecode-1.3-py2.py3-none-any.whl.metadata (2.4 kB)\n",
      "Requirement already satisfied: MarkupSafe>=2.0 in c:\\users\\pichau\\pycharmprojects\\testes-yolo\\.venv\\lib\\site-packages (from jinja2->torch>=1.8.0->ultralytics->-r requirements.txt (line 13)) (3.0.2)\n",
      "Downloading lxml-5.3.1-cp312-cp312-win_amd64.whl (3.8 MB)\n",
      "   ---------------------------------------- 0.0/3.8 MB ? eta -:--:--\n",
      "   ---------------------------------------- 0.0/3.8 MB 1.9 MB/s eta 0:00:02\n",
      "   -- ------------------------------------- 0.3/3.8 MB 4.1 MB/s eta 0:00:01\n",
      "   ---- ----------------------------------- 0.4/3.8 MB 3.9 MB/s eta 0:00:01\n",
      "   --------- ------------------------------ 0.9/3.8 MB 5.4 MB/s eta 0:00:01\n",
      "   ------------- -------------------------- 1.3/3.8 MB 6.3 MB/s eta 0:00:01\n",
      "   ---------------- ----------------------- 1.6/3.8 MB 6.3 MB/s eta 0:00:01\n",
      "   -------------------- ------------------- 2.0/3.8 MB 6.7 MB/s eta 0:00:01\n",
      "   ------------------------- -------------- 2.4/3.8 MB 7.0 MB/s eta 0:00:01\n",
      "   ----------------------------- ---------- 2.8/3.8 MB 7.1 MB/s eta 0:00:01\n",
      "   -------------------------------- ------- 3.1/3.8 MB 7.1 MB/s eta 0:00:01\n",
      "   ------------------------------------- -- 3.6/3.8 MB 7.4 MB/s eta 0:00:01\n",
      "   ---------------------------------------  3.8/3.8 MB 7.2 MB/s eta 0:00:01\n",
      "   ---------------------------------------- 3.8/3.8 MB 7.0 MB/s eta 0:00:00\n",
      "Using cached PyQt5-5.15.11-cp38-abi3-win_amd64.whl (6.9 MB)\n",
      "Using cached python_dotenv-1.0.1-py3-none-any.whl (19 kB)\n",
      "Downloading roboflow-1.1.53-py3-none-any.whl (82 kB)\n",
      "   ---------------------------------------- 0.0/83.0 kB ? eta -:--:--\n",
      "   ---------------------------------------- 83.0/83.0 kB ? eta 0:00:00\n",
      "Using cached idna-3.7-py3-none-any.whl (66 kB)\n",
      "Using cached opencv_python_headless-4.10.0.84-cp37-abi3-win_amd64.whl (38.8 MB)\n",
      "Using cached scikit_learn-1.6.1-cp312-cp312-win_amd64.whl (11.1 MB)\n",
      "Downloading sip-6.10.0-1-py3-none-any.whl (2.6 MB)\n",
      "   ---------------------------------------- 0.0/2.6 MB ? eta -:--:--\n",
      "   --- ------------------------------------ 0.3/2.6 MB 7.9 MB/s eta 0:00:01\n",
      "   ----------- ---------------------------- 0.7/2.6 MB 9.3 MB/s eta 0:00:01\n",
      "   ---------------- ----------------------- 1.1/2.6 MB 8.4 MB/s eta 0:00:01\n",
      "   ----------------------- ---------------- 1.5/2.6 MB 8.6 MB/s eta 0:00:01\n",
      "   --------------------------- ------------ 1.8/2.6 MB 8.1 MB/s eta 0:00:01\n",
      "   -------------------------------- ------- 2.1/2.6 MB 8.0 MB/s eta 0:00:01\n",
      "   -------------------------------------- - 2.5/2.6 MB 8.0 MB/s eta 0:00:01\n",
      "   ---------------------------------------- 2.6/2.6 MB 7.5 MB/s eta 0:00:00\n",
      "Using cached joblib-1.4.2-py3-none-any.whl (301 kB)\n",
      "Using cached PyQt5_Qt5-5.15.2-py3-none-win_amd64.whl (50.1 MB)\n",
      "Downloading PyQt5_sip-12.17.0-cp312-cp312-win_amd64.whl (58 kB)\n",
      "   ---------------------------------------- 0.0/58.0 kB ? eta -:--:--\n",
      "   ---------------------------------------- 58.0/58.0 kB 3.2 MB/s eta 0:00:00\n",
      "Using cached threadpoolctl-3.5.0-py3-none-any.whl (18 kB)\n",
      "Using cached filetype-1.2.0-py2.py3-none-any.whl (19 kB)\n",
      "Using cached python_slugify-8.0.4-py2.py3-none-any.whl (10 kB)\n",
      "Using cached requests_toolbelt-1.0.0-py2.py3-none-any.whl (54 kB)\n",
      "Using cached text_unidecode-1.3-py2.py3-none-any.whl (78 kB)\n",
      "Installing collected packages: text-unidecode, PyQt5-Qt5, filetype, threadpoolctl, sip, python-slugify, python-dotenv, PyQt5-sip, opencv-python-headless, lxml, joblib, idna, scikit-learn, pyqt5, requests-toolbelt, labelimg, kaggle, roboflow\n",
      "  Attempting uninstall: idna\n",
      "    Found existing installation: idna 3.10\n",
      "    Uninstalling idna-3.10:\n",
      "      Successfully uninstalled idna-3.10\n",
      "Successfully installed PyQt5-Qt5-5.15.2 PyQt5-sip-12.17.0 filetype-1.2.0 idna-3.7 joblib-1.4.2 kaggle-1.6.17 labelimg-1.8.6 lxml-5.3.1 opencv-python-headless-4.10.0.84 pyqt5-5.15.11 python-dotenv-1.0.1 python-slugify-8.0.4 requests-toolbelt-1.0.0 roboflow-1.1.53 scikit-learn-1.6.1 sip-6.10.0 text-unidecode-1.3 threadpoolctl-3.5.0\n"
     ]
    },
    {
     "name": "stderr",
     "output_type": "stream",
     "text": [
      "\n",
      "[notice] A new release of pip is available: 23.2.1 -> 25.0.1\n",
      "[notice] To update, run: python.exe -m pip install --upgrade pip\n"
     ]
    }
   ],
   "execution_count": 1
  },
  {
   "cell_type": "code",
   "id": "1cb05c56",
   "metadata": {
    "ExecuteTime": {
     "end_time": "2025-02-12T01:31:32.134521Z",
     "start_time": "2025-02-12T01:31:25.115929Z"
    }
   },
   "source": [
    "import os\n",
    "from dotenv import load_dotenv\n",
    "from include.utils import atualizar_datasets_dir, baixar_dataset\n",
    "from kaggle.api.kaggle_api_extended import KaggleApi"
   ],
   "outputs": [],
   "execution_count": 2
  },
  {
   "metadata": {
    "ExecuteTime": {
     "end_time": "2025-02-12T01:32:02.491931Z",
     "start_time": "2025-02-12T01:32:02.481933Z"
    }
   },
   "cell_type": "code",
   "source": [
    "# Usar somente se deixar alguma variável protegida, como a senha do email\n",
    "load_dotenv()"
   ],
   "id": "7cdbbf1f",
   "outputs": [
    {
     "data": {
      "text/plain": [
       "False"
      ]
     },
     "execution_count": 3,
     "metadata": {},
     "output_type": "execute_result"
    }
   ],
   "execution_count": 3
  },
  {
   "cell_type": "code",
   "id": "50a1ce9e",
   "metadata": {
    "ExecuteTime": {
     "end_time": "2025-02-12T01:32:11.037652Z",
     "start_time": "2025-02-12T01:32:10.987952Z"
    }
   },
   "source": [
    "# Inicializar a API do Kaggle\n",
    "api = KaggleApi()\n",
    "api.authenticate()"
   ],
   "outputs": [],
   "execution_count": 4
  },
  {
   "cell_type": "code",
   "id": "8fabbcd3",
   "metadata": {
    "ExecuteTime": {
     "end_time": "2025-02-12T01:32:41.606965Z",
     "start_time": "2025-02-12T01:32:41.603790Z"
    }
   },
   "source": [
    "current_dir = os.getcwd()\n",
    "diretorio_imagens = os.path.join(current_dir, 'arquivo', 'imagens')\n",
    "diretorio_kaggle = \"contatovcb/facas-e-armas\""
   ],
   "outputs": [],
   "execution_count": 5
  },
  {
   "metadata": {
    "ExecuteTime": {
     "end_time": "2025-02-12T01:36:03.955786Z",
     "start_time": "2025-02-12T01:36:03.929438Z"
    }
   },
   "cell_type": "code",
   "source": "os.makedirs(diretorio_imagens, exist_ok=True) # Criação de estrutura",
   "id": "c7fb75c8eca7cd48",
   "outputs": [],
   "execution_count": 9
  },
  {
   "cell_type": "code",
   "id": "21b7147e",
   "metadata": {
    "ExecuteTime": {
     "end_time": "2025-02-12T01:36:41.337160Z",
     "start_time": "2025-02-12T01:36:25.321371Z"
    }
   },
   "source": "baixar_dataset(api, diretorio_kaggle, diretorio_imagens)",
   "outputs": [
    {
     "name": "stdout",
     "output_type": "stream",
     "text": [
      "Dataset URL: https://www.kaggle.com/datasets/contatovcb/facas-e-armas\n"
     ]
    },
    {
     "ename": "KeyboardInterrupt",
     "evalue": "",
     "output_type": "error",
     "traceback": [
      "\u001B[1;31m---------------------------------------------------------------------------\u001B[0m",
      "\u001B[1;31mKeyboardInterrupt\u001B[0m                         Traceback (most recent call last)",
      "Cell \u001B[1;32mIn[10], line 1\u001B[0m\n\u001B[1;32m----> 1\u001B[0m \u001B[43mbaixar_dataset\u001B[49m\u001B[43m(\u001B[49m\u001B[43mapi\u001B[49m\u001B[43m,\u001B[49m\u001B[43m \u001B[49m\u001B[43mdiretorio_kaggle\u001B[49m\u001B[43m,\u001B[49m\u001B[43m \u001B[49m\u001B[43mdiretorio_imagens\u001B[49m\u001B[43m)\u001B[49m\n",
      "File \u001B[1;32m~\\PycharmProjects\\testes-yolo\\teste-env-github\\Hackathon\\include\\utils.py:47\u001B[0m, in \u001B[0;36mbaixar_dataset\u001B[1;34m(api, diretorio_kaggle, diretorio_imagens)\u001B[0m\n\u001B[0;32m     44\u001B[0m \u001B[38;5;28;01mdef\u001B[39;00m\u001B[38;5;250m \u001B[39m\u001B[38;5;21mbaixar_dataset\u001B[39m(api, diretorio_kaggle, diretorio_imagens):\n\u001B[0;32m     45\u001B[0m     \u001B[38;5;66;03m#os.makedirs(diretorio_imagens, exist_ok=True)\u001B[39;00m\n\u001B[0;32m     46\u001B[0m     \u001B[38;5;28;01mtry\u001B[39;00m:\n\u001B[1;32m---> 47\u001B[0m         \u001B[43mapi\u001B[49m\u001B[38;5;241;43m.\u001B[39;49m\u001B[43mdataset_download_files\u001B[49m\u001B[43m(\u001B[49m\u001B[43mdiretorio_kaggle\u001B[49m\u001B[43m,\u001B[49m\u001B[43m \u001B[49m\u001B[43mpath\u001B[49m\u001B[38;5;241;43m=\u001B[39;49m\u001B[43mdiretorio_imagens\u001B[49m\u001B[43m,\u001B[49m\u001B[43m \u001B[49m\u001B[43munzip\u001B[49m\u001B[38;5;241;43m=\u001B[39;49m\u001B[38;5;28;43;01mTrue\u001B[39;49;00m\u001B[43m)\u001B[49m\n\u001B[0;32m     48\u001B[0m     \u001B[38;5;28;01mexcept\u001B[39;00m \u001B[38;5;167;01mException\u001B[39;00m \u001B[38;5;28;01mas\u001B[39;00m e:\n\u001B[0;32m     49\u001B[0m         \u001B[38;5;28mprint\u001B[39m(\u001B[38;5;124mf\u001B[39m\u001B[38;5;124m\"\u001B[39m\u001B[38;5;124mErro ao baixar o dataset: \u001B[39m\u001B[38;5;132;01m{\u001B[39;00me\u001B[38;5;132;01m}\u001B[39;00m\u001B[38;5;124m\"\u001B[39m)\n",
      "File \u001B[1;32m~\\PycharmProjects\\testes-yolo\\.venv\\Lib\\site-packages\\kaggle\\api\\kaggle_api_extended.py:1520\u001B[0m, in \u001B[0;36mKaggleApi.dataset_download_files\u001B[1;34m(self, dataset, path, force, quiet, unzip, licenses)\u001B[0m\n\u001B[0;32m   1518\u001B[0m \u001B[38;5;28;01mtry\u001B[39;00m:\n\u001B[0;32m   1519\u001B[0m     \u001B[38;5;28;01mwith\u001B[39;00m zipfile\u001B[38;5;241m.\u001B[39mZipFile(outfile) \u001B[38;5;28;01mas\u001B[39;00m z:\n\u001B[1;32m-> 1520\u001B[0m         \u001B[43mz\u001B[49m\u001B[38;5;241;43m.\u001B[39;49m\u001B[43mextractall\u001B[49m\u001B[43m(\u001B[49m\u001B[43meffective_path\u001B[49m\u001B[43m)\u001B[49m\n\u001B[0;32m   1521\u001B[0m \u001B[38;5;28;01mexcept\u001B[39;00m zipfile\u001B[38;5;241m.\u001B[39mBadZipFile \u001B[38;5;28;01mas\u001B[39;00m e:\n\u001B[0;32m   1522\u001B[0m     \u001B[38;5;28;01mraise\u001B[39;00m \u001B[38;5;167;01mValueError\u001B[39;00m(\n\u001B[0;32m   1523\u001B[0m         \u001B[38;5;124m'\u001B[39m\u001B[38;5;124mBad zip file, please report on \u001B[39m\u001B[38;5;124m'\u001B[39m\n\u001B[0;32m   1524\u001B[0m         \u001B[38;5;124m'\u001B[39m\u001B[38;5;124mwww.github.com/kaggle/kaggle-api\u001B[39m\u001B[38;5;124m'\u001B[39m, e)\n",
      "File \u001B[1;32m~\\AppData\\Local\\Programs\\Python\\Python312\\Lib\\zipfile\\__init__.py:1744\u001B[0m, in \u001B[0;36mZipFile.extractall\u001B[1;34m(self, path, members, pwd)\u001B[0m\n\u001B[0;32m   1741\u001B[0m     path \u001B[38;5;241m=\u001B[39m os\u001B[38;5;241m.\u001B[39mfspath(path)\n\u001B[0;32m   1743\u001B[0m \u001B[38;5;28;01mfor\u001B[39;00m zipinfo \u001B[38;5;129;01min\u001B[39;00m members:\n\u001B[1;32m-> 1744\u001B[0m     \u001B[38;5;28;43mself\u001B[39;49m\u001B[38;5;241;43m.\u001B[39;49m\u001B[43m_extract_member\u001B[49m\u001B[43m(\u001B[49m\u001B[43mzipinfo\u001B[49m\u001B[43m,\u001B[49m\u001B[43m \u001B[49m\u001B[43mpath\u001B[49m\u001B[43m,\u001B[49m\u001B[43m \u001B[49m\u001B[43mpwd\u001B[49m\u001B[43m)\u001B[49m\n",
      "File \u001B[1;32m~\\AppData\\Local\\Programs\\Python\\Python312\\Lib\\zipfile\\__init__.py:1801\u001B[0m, in \u001B[0;36mZipFile._extract_member\u001B[1;34m(self, member, targetpath, pwd)\u001B[0m\n\u001B[0;32m   1797\u001B[0m         os\u001B[38;5;241m.\u001B[39mmkdir(targetpath)\n\u001B[0;32m   1798\u001B[0m     \u001B[38;5;28;01mreturn\u001B[39;00m targetpath\n\u001B[0;32m   1800\u001B[0m \u001B[38;5;28;01mwith\u001B[39;00m \u001B[38;5;28mself\u001B[39m\u001B[38;5;241m.\u001B[39mopen(member, pwd\u001B[38;5;241m=\u001B[39mpwd) \u001B[38;5;28;01mas\u001B[39;00m source, \\\n\u001B[1;32m-> 1801\u001B[0m      \u001B[38;5;28;43mopen\u001B[39;49m\u001B[43m(\u001B[49m\u001B[43mtargetpath\u001B[49m\u001B[43m,\u001B[49m\u001B[43m \u001B[49m\u001B[38;5;124;43m\"\u001B[39;49m\u001B[38;5;124;43mwb\u001B[39;49m\u001B[38;5;124;43m\"\u001B[39;49m\u001B[43m)\u001B[49m \u001B[38;5;28;01mas\u001B[39;00m target:\n\u001B[0;32m   1802\u001B[0m     shutil\u001B[38;5;241m.\u001B[39mcopyfileobj(source, target)\n\u001B[0;32m   1804\u001B[0m \u001B[38;5;28;01mreturn\u001B[39;00m targetpath\n",
      "\u001B[1;31mKeyboardInterrupt\u001B[0m: "
     ]
    }
   ],
   "execution_count": 10
  },
  {
   "metadata": {},
   "cell_type": "code",
   "outputs": [],
   "execution_count": null,
   "source": [
    "# Atualizar o campo `datasets_dir` no arquivo settings.json da Ultralytics - Usado para o YOLO reconhecer o caminho dos dados de imagens posteriormente\n",
    "atualizar_datasets_dir(\"./\")"
   ],
   "id": "2fe82592b72edaab"
  }
 ],
 "metadata": {
  "jupytext": {
   "cell_metadata_filter": "-all",
   "main_language": "python",
   "notebook_metadata_filter": "-all"
  },
  "kernelspec": {
   "display_name": "Python 3 (ipykernel)",
   "language": "python",
   "name": "python3"
  },
  "language_info": {
   "codemirror_mode": {
    "name": "ipython",
    "version": 3
   },
   "file_extension": ".py",
   "mimetype": "text/x-python",
   "name": "python",
   "nbconvert_exporter": "python",
   "pygments_lexer": "ipython3",
   "version": "3.12.4"
  }
 },
 "nbformat": 4,
 "nbformat_minor": 5
}
