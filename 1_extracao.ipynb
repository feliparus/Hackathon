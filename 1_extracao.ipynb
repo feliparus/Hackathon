{
 "cells": [
  {
   "cell_type": "code",
   "id": "79811cc8-019a-4829-961b-dba946b5c3a3",
   "metadata": {
    "ExecuteTime": {
     "end_time": "2025-02-09T21:21:39.541126Z",
     "start_time": "2025-02-09T21:21:36.665752Z"
    }
   },
   "source": [
    "!pip install -r requirements.txt"
   ],
   "outputs": [
    {
     "name": "stdout",
     "output_type": "stream",
     "text": [
      "Requirement already satisfied: kaggle in c:\\users\\pichau\\pycharmprojects\\hackathon\\.venv\\lib\\site-packages (from -r requirements.txt (line 1)) (1.6.17)\n",
      "Requirement already satisfied: labelimg in c:\\users\\pichau\\pycharmprojects\\hackathon\\.venv\\lib\\site-packages (from -r requirements.txt (line 2)) (1.8.6)\n",
      "Requirement already satisfied: lxml in c:\\users\\pichau\\pycharmprojects\\hackathon\\.venv\\lib\\site-packages (from -r requirements.txt (line 3)) (5.3.0)\n",
      "Requirement already satisfied: numpy in c:\\users\\pichau\\pycharmprojects\\hackathon\\.venv\\lib\\site-packages (from -r requirements.txt (line 4)) (1.26.4)\n",
      "Requirement already satisfied: opencv-python in c:\\users\\pichau\\pycharmprojects\\hackathon\\.venv\\lib\\site-packages (from -r requirements.txt (line 5)) (4.10.0.84)\n",
      "Requirement already satisfied: pyqt5 in c:\\users\\pichau\\pycharmprojects\\hackathon\\.venv\\lib\\site-packages (from -r requirements.txt (line 6)) (5.15.11)\n",
      "Requirement already satisfied: python-dotenv in c:\\users\\pichau\\pycharmprojects\\hackathon\\.venv\\lib\\site-packages (from -r requirements.txt (line 7)) (1.0.1)\n",
      "Requirement already satisfied: PyYAML in c:\\users\\pichau\\pycharmprojects\\hackathon\\.venv\\lib\\site-packages (from -r requirements.txt (line 8)) (6.0.2)\n",
      "Requirement already satisfied: roboflow in c:\\users\\pichau\\pycharmprojects\\hackathon\\.venv\\lib\\site-packages (from -r requirements.txt (line 9)) (1.1.51)\n",
      "Requirement already satisfied: scikit-learn in c:\\users\\pichau\\pycharmprojects\\hackathon\\.venv\\lib\\site-packages (from -r requirements.txt (line 10)) (1.6.1)\n",
      "Requirement already satisfied: sip in c:\\users\\pichau\\pycharmprojects\\hackathon\\.venv\\lib\\site-packages (from -r requirements.txt (line 11)) (6.9.1)\n",
      "Requirement already satisfied: tqdm in c:\\users\\pichau\\pycharmprojects\\hackathon\\.venv\\lib\\site-packages (from -r requirements.txt (line 12)) (4.67.1)\n",
      "Requirement already satisfied: ultralytics in c:\\users\\pichau\\pycharmprojects\\hackathon\\.venv\\lib\\site-packages (from -r requirements.txt (line 13)) (8.3.69)\n",
      "Requirement already satisfied: six>=1.10 in c:\\users\\pichau\\pycharmprojects\\hackathon\\.venv\\lib\\site-packages (from kaggle->-r requirements.txt (line 1)) (1.17.0)\n",
      "Requirement already satisfied: certifi>=2023.7.22 in c:\\users\\pichau\\pycharmprojects\\hackathon\\.venv\\lib\\site-packages (from kaggle->-r requirements.txt (line 1)) (2024.12.14)\n",
      "Requirement already satisfied: python-dateutil in c:\\users\\pichau\\pycharmprojects\\hackathon\\.venv\\lib\\site-packages (from kaggle->-r requirements.txt (line 1)) (2.9.0.post0)\n",
      "Requirement already satisfied: requests in c:\\users\\pichau\\pycharmprojects\\hackathon\\.venv\\lib\\site-packages (from kaggle->-r requirements.txt (line 1)) (2.32.3)\n",
      "Requirement already satisfied: python-slugify in c:\\users\\pichau\\pycharmprojects\\hackathon\\.venv\\lib\\site-packages (from kaggle->-r requirements.txt (line 1)) (8.0.4)\n",
      "Requirement already satisfied: urllib3 in c:\\users\\pichau\\pycharmprojects\\hackathon\\.venv\\lib\\site-packages (from kaggle->-r requirements.txt (line 1)) (2.3.0)\n",
      "Requirement already satisfied: bleach in c:\\users\\pichau\\pycharmprojects\\hackathon\\.venv\\lib\\site-packages (from kaggle->-r requirements.txt (line 1)) (6.2.0)\n",
      "Requirement already satisfied: PyQt5-sip<13,>=12.15 in c:\\users\\pichau\\pycharmprojects\\hackathon\\.venv\\lib\\site-packages (from pyqt5->-r requirements.txt (line 6)) (12.16.1)\n",
      "Requirement already satisfied: PyQt5-Qt5<5.16.0,>=5.15.2 in c:\\users\\pichau\\pycharmprojects\\hackathon\\.venv\\lib\\site-packages (from pyqt5->-r requirements.txt (line 6)) (5.15.2)\n",
      "Requirement already satisfied: idna==3.7 in c:\\users\\pichau\\pycharmprojects\\hackathon\\.venv\\lib\\site-packages (from roboflow->-r requirements.txt (line 9)) (3.7)\n",
      "Requirement already satisfied: cycler in c:\\users\\pichau\\pycharmprojects\\hackathon\\.venv\\lib\\site-packages (from roboflow->-r requirements.txt (line 9)) (0.12.1)\n",
      "Requirement already satisfied: kiwisolver>=1.3.1 in c:\\users\\pichau\\pycharmprojects\\hackathon\\.venv\\lib\\site-packages (from roboflow->-r requirements.txt (line 9)) (1.4.8)\n",
      "Requirement already satisfied: matplotlib in c:\\users\\pichau\\pycharmprojects\\hackathon\\.venv\\lib\\site-packages (from roboflow->-r requirements.txt (line 9)) (3.10.0)\n",
      "Requirement already satisfied: opencv-python-headless==4.10.0.84 in c:\\users\\pichau\\pycharmprojects\\hackathon\\.venv\\lib\\site-packages (from roboflow->-r requirements.txt (line 9)) (4.10.0.84)\n",
      "Requirement already satisfied: Pillow>=7.1.2 in c:\\users\\pichau\\pycharmprojects\\hackathon\\.venv\\lib\\site-packages (from roboflow->-r requirements.txt (line 9)) (11.1.0)\n",
      "Requirement already satisfied: requests-toolbelt in c:\\users\\pichau\\pycharmprojects\\hackathon\\.venv\\lib\\site-packages (from roboflow->-r requirements.txt (line 9)) (1.0.0)\n",
      "Requirement already satisfied: filetype in c:\\users\\pichau\\pycharmprojects\\hackathon\\.venv\\lib\\site-packages (from roboflow->-r requirements.txt (line 9)) (1.2.0)\n",
      "Requirement already satisfied: scipy>=1.6.0 in c:\\users\\pichau\\pycharmprojects\\hackathon\\.venv\\lib\\site-packages (from scikit-learn->-r requirements.txt (line 10)) (1.15.1)\n",
      "Requirement already satisfied: joblib>=1.2.0 in c:\\users\\pichau\\pycharmprojects\\hackathon\\.venv\\lib\\site-packages (from scikit-learn->-r requirements.txt (line 10)) (1.4.2)\n",
      "Requirement already satisfied: threadpoolctl>=3.1.0 in c:\\users\\pichau\\pycharmprojects\\hackathon\\.venv\\lib\\site-packages (from scikit-learn->-r requirements.txt (line 10)) (3.5.0)\n",
      "Requirement already satisfied: packaging in c:\\users\\pichau\\pycharmprojects\\hackathon\\.venv\\lib\\site-packages (from sip->-r requirements.txt (line 11)) (24.2)\n",
      "Requirement already satisfied: setuptools>=69.5 in c:\\users\\pichau\\pycharmprojects\\hackathon\\.venv\\lib\\site-packages (from sip->-r requirements.txt (line 11)) (75.8.0)\n",
      "Requirement already satisfied: colorama in c:\\users\\pichau\\pycharmprojects\\hackathon\\.venv\\lib\\site-packages (from tqdm->-r requirements.txt (line 12)) (0.4.6)\n",
      "Requirement already satisfied: torch>=1.8.0 in c:\\users\\pichau\\pycharmprojects\\hackathon\\.venv\\lib\\site-packages (from ultralytics->-r requirements.txt (line 13)) (2.5.1+cu121)\n",
      "Requirement already satisfied: torchvision>=0.9.0 in c:\\users\\pichau\\pycharmprojects\\hackathon\\.venv\\lib\\site-packages (from ultralytics->-r requirements.txt (line 13)) (0.20.1+cu121)\n",
      "Requirement already satisfied: psutil in c:\\users\\pichau\\pycharmprojects\\hackathon\\.venv\\lib\\site-packages (from ultralytics->-r requirements.txt (line 13)) (6.1.1)\n",
      "Requirement already satisfied: py-cpuinfo in c:\\users\\pichau\\pycharmprojects\\hackathon\\.venv\\lib\\site-packages (from ultralytics->-r requirements.txt (line 13)) (9.0.0)\n",
      "Requirement already satisfied: pandas>=1.1.4 in c:\\users\\pichau\\pycharmprojects\\hackathon\\.venv\\lib\\site-packages (from ultralytics->-r requirements.txt (line 13)) (2.2.3)\n",
      "Requirement already satisfied: seaborn>=0.11.0 in c:\\users\\pichau\\pycharmprojects\\hackathon\\.venv\\lib\\site-packages (from ultralytics->-r requirements.txt (line 13)) (0.13.2)\n",
      "Requirement already satisfied: ultralytics-thop>=2.0.0 in c:\\users\\pichau\\pycharmprojects\\hackathon\\.venv\\lib\\site-packages (from ultralytics->-r requirements.txt (line 13)) (2.0.14)\n",
      "Requirement already satisfied: contourpy>=1.0.1 in c:\\users\\pichau\\pycharmprojects\\hackathon\\.venv\\lib\\site-packages (from matplotlib->roboflow->-r requirements.txt (line 9)) (1.3.1)\n",
      "Requirement already satisfied: fonttools>=4.22.0 in c:\\users\\pichau\\pycharmprojects\\hackathon\\.venv\\lib\\site-packages (from matplotlib->roboflow->-r requirements.txt (line 9)) (4.55.7)\n",
      "Requirement already satisfied: pyparsing>=2.3.1 in c:\\users\\pichau\\pycharmprojects\\hackathon\\.venv\\lib\\site-packages (from matplotlib->roboflow->-r requirements.txt (line 9)) (3.2.1)\n",
      "Requirement already satisfied: pytz>=2020.1 in c:\\users\\pichau\\pycharmprojects\\hackathon\\.venv\\lib\\site-packages (from pandas>=1.1.4->ultralytics->-r requirements.txt (line 13)) (2024.2)\n",
      "Requirement already satisfied: tzdata>=2022.7 in c:\\users\\pichau\\pycharmprojects\\hackathon\\.venv\\lib\\site-packages (from pandas>=1.1.4->ultralytics->-r requirements.txt (line 13)) (2025.1)\n",
      "Requirement already satisfied: charset-normalizer<4,>=2 in c:\\users\\pichau\\pycharmprojects\\hackathon\\.venv\\lib\\site-packages (from requests->kaggle->-r requirements.txt (line 1)) (3.4.1)\n",
      "Requirement already satisfied: filelock in c:\\users\\pichau\\pycharmprojects\\hackathon\\.venv\\lib\\site-packages (from torch>=1.8.0->ultralytics->-r requirements.txt (line 13)) (3.17.0)\n",
      "Requirement already satisfied: typing-extensions>=4.8.0 in c:\\users\\pichau\\pycharmprojects\\hackathon\\.venv\\lib\\site-packages (from torch>=1.8.0->ultralytics->-r requirements.txt (line 13)) (4.12.2)\n",
      "Requirement already satisfied: networkx in c:\\users\\pichau\\pycharmprojects\\hackathon\\.venv\\lib\\site-packages (from torch>=1.8.0->ultralytics->-r requirements.txt (line 13)) (3.4.2)\n",
      "Requirement already satisfied: jinja2 in c:\\users\\pichau\\pycharmprojects\\hackathon\\.venv\\lib\\site-packages (from torch>=1.8.0->ultralytics->-r requirements.txt (line 13)) (3.1.5)\n",
      "Requirement already satisfied: fsspec in c:\\users\\pichau\\pycharmprojects\\hackathon\\.venv\\lib\\site-packages (from torch>=1.8.0->ultralytics->-r requirements.txt (line 13)) (2024.12.0)\n",
      "Requirement already satisfied: sympy==1.13.1 in c:\\users\\pichau\\pycharmprojects\\hackathon\\.venv\\lib\\site-packages (from torch>=1.8.0->ultralytics->-r requirements.txt (line 13)) (1.13.1)\n",
      "Requirement already satisfied: mpmath<1.4,>=1.1.0 in c:\\users\\pichau\\pycharmprojects\\hackathon\\.venv\\lib\\site-packages (from sympy==1.13.1->torch>=1.8.0->ultralytics->-r requirements.txt (line 13)) (1.3.0)\n",
      "Requirement already satisfied: webencodings in c:\\users\\pichau\\pycharmprojects\\hackathon\\.venv\\lib\\site-packages (from bleach->kaggle->-r requirements.txt (line 1)) (0.5.1)\n",
      "Requirement already satisfied: text-unidecode>=1.3 in c:\\users\\pichau\\pycharmprojects\\hackathon\\.venv\\lib\\site-packages (from python-slugify->kaggle->-r requirements.txt (line 1)) (1.3)\n",
      "Requirement already satisfied: MarkupSafe>=2.0 in c:\\users\\pichau\\pycharmprojects\\hackathon\\.venv\\lib\\site-packages (from jinja2->torch>=1.8.0->ultralytics->-r requirements.txt (line 13)) (3.0.2)\n"
     ]
    },
    {
     "name": "stderr",
     "output_type": "stream",
     "text": [
      "\n",
      "[notice] A new release of pip is available: 23.2.1 -> 25.0\n",
      "[notice] To update, run: python.exe -m pip install --upgrade pip\n"
     ]
    }
   ],
   "execution_count": 1
  },
  {
   "cell_type": "code",
   "id": "ffcbf033",
   "metadata": {
    "ExecuteTime": {
     "end_time": "2025-02-09T21:21:47.500048Z",
     "start_time": "2025-02-09T21:21:47.488010Z"
    }
   },
   "source": [
    "import os"
   ],
   "outputs": [],
   "execution_count": 2
  },
  {
   "cell_type": "code",
   "id": "1cb05c56",
   "metadata": {
    "ExecuteTime": {
     "end_time": "2025-02-09T21:21:55.835965Z",
     "start_time": "2025-02-09T21:21:50.290642Z"
    }
   },
   "source": [
    "from dotenv import load_dotenv\n",
    "from include.utils import atualizar_datasets_dir, baixar_dataset\n",
    "from kaggle.api.kaggle_api_extended import KaggleApi"
   ],
   "outputs": [],
   "execution_count": 3
  },
  {
   "cell_type": "code",
   "id": "7cdbbf1f",
   "metadata": {
    "ExecuteTime": {
     "end_time": "2025-02-09T21:22:10.976267Z",
     "start_time": "2025-02-09T21:22:10.960222Z"
    }
   },
   "source": [
    "# Usar somente se deixar alguma variável protegida, como a senha do email\n",
    "load_dotenv()"
   ],
   "outputs": [
    {
     "data": {
      "text/plain": [
       "True"
      ]
     },
     "execution_count": 4,
     "metadata": {},
     "output_type": "execute_result"
    }
   ],
   "execution_count": 4
  },
  {
   "cell_type": "code",
   "id": "50a1ce9e",
   "metadata": {
    "ExecuteTime": {
     "end_time": "2025-02-09T21:22:16.394017Z",
     "start_time": "2025-02-09T21:22:16.364781Z"
    }
   },
   "source": [
    "# Inicializar a API do Kaggle\n",
    "api = KaggleApi()\n",
    "api.authenticate()"
   ],
   "outputs": [],
   "execution_count": 5
  },
  {
   "cell_type": "code",
   "id": "8fabbcd3",
   "metadata": {
    "ExecuteTime": {
     "end_time": "2025-02-09T21:25:38.635057Z",
     "start_time": "2025-02-09T21:25:38.621359Z"
    }
   },
   "source": [
    "current_dir = os.getcwd()\n",
    "diretorio_imagens = os.path.join(current_dir, 'arquivo', 'imagens')\n",
    "diretorio_kaggle = \"contatovcb/facas-e-armas\""
   ],
   "outputs": [],
   "execution_count": 6
  },
  {
   "cell_type": "code",
   "id": "21b7147e",
   "metadata": {
    "ExecuteTime": {
     "end_time": "2025-02-09T21:26:00.494217Z",
     "start_time": "2025-02-09T21:25:42.612957Z"
    }
   },
   "source": "baixar_dataset(api, diretorio_kaggle, diretorio_imagens)",
   "outputs": [
    {
     "name": "stdout",
     "output_type": "stream",
     "text": [
      "Dataset URL: https://www.kaggle.com/datasets/contatovcb/facas-e-armas\n"
     ]
    }
   ],
   "execution_count": 7
  },
  {
   "metadata": {},
   "cell_type": "code",
   "outputs": [],
   "execution_count": null,
   "source": [
    "# Atualizar o campo `datasets_dir` no arquivo settings.json da Ultralytics - Usado para o YOLO reconhecer o caminho dos dados de imagens posteriormente\n",
    "atualizar_datasets_dir(\"./\")"
   ],
   "id": "2fe82592b72edaab"
  }
 ],
 "metadata": {
  "jupytext": {
   "cell_metadata_filter": "-all",
   "main_language": "python",
   "notebook_metadata_filter": "-all"
  },
  "kernelspec": {
   "display_name": "Python 3 (ipykernel)",
   "language": "python",
   "name": "python3"
  },
  "language_info": {
   "codemirror_mode": {
    "name": "ipython",
    "version": 3
   },
   "file_extension": ".py",
   "mimetype": "text/x-python",
   "name": "python",
   "nbconvert_exporter": "python",
   "pygments_lexer": "ipython3",
   "version": "3.12.4"
  }
 },
 "nbformat": 4,
 "nbformat_minor": 5
}
